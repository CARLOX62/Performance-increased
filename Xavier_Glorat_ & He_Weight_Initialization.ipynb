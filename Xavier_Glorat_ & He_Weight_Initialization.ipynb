{
  "nbformat": 4,
  "nbformat_minor": 0,
  "metadata": {
    "colab": {
      "provenance": []
    },
    "kernelspec": {
      "name": "python3",
      "display_name": "Python 3"
    },
    "language_info": {
      "name": "python"
    }
  },
  "cells": [
    {
      "cell_type": "code",
      "execution_count": 1,
      "metadata": {
        "id": "-50zybTsr7w1"
      },
      "outputs": [],
      "source": [
        "import numpy as np\n",
        "import pandas as pd\n",
        "import matplotlib.pyplot as plt"
      ]
    },
    {
      "cell_type": "code",
      "source": [
        "df = pd.read_csv('/content/ushape.csv')"
      ],
      "metadata": {
        "id": "6o1kS57IsL_0"
      },
      "execution_count": 2,
      "outputs": []
    },
    {
      "cell_type": "code",
      "source": [
        "df.head()"
      ],
      "metadata": {
        "colab": {
          "base_uri": "https://localhost:8080/",
          "height": 206
        },
        "id": "CQBJBmhGshbf",
        "outputId": "b33cb03e-ea86-462c-80b2-2c051c3e3140"
      },
      "execution_count": 3,
      "outputs": [
        {
          "output_type": "execute_result",
          "data": {
            "text/plain": [
              "        X       Y  class\n",
              "0  0.0316  0.9870    0.0\n",
              "1  2.1200 -0.0462    1.0\n",
              "2  0.8820 -0.0758    0.0\n",
              "3 -0.0551 -0.0373    1.0\n",
              "4  0.8300 -0.5390    1.0"
            ],
            "text/html": [
              "\n",
              "  <div id=\"df-fc67e984-3bf0-49ce-b3f3-234017ccad38\" class=\"colab-df-container\">\n",
              "    <div>\n",
              "<style scoped>\n",
              "    .dataframe tbody tr th:only-of-type {\n",
              "        vertical-align: middle;\n",
              "    }\n",
              "\n",
              "    .dataframe tbody tr th {\n",
              "        vertical-align: top;\n",
              "    }\n",
              "\n",
              "    .dataframe thead th {\n",
              "        text-align: right;\n",
              "    }\n",
              "</style>\n",
              "<table border=\"1\" class=\"dataframe\">\n",
              "  <thead>\n",
              "    <tr style=\"text-align: right;\">\n",
              "      <th></th>\n",
              "      <th>X</th>\n",
              "      <th>Y</th>\n",
              "      <th>class</th>\n",
              "    </tr>\n",
              "  </thead>\n",
              "  <tbody>\n",
              "    <tr>\n",
              "      <th>0</th>\n",
              "      <td>0.0316</td>\n",
              "      <td>0.9870</td>\n",
              "      <td>0.0</td>\n",
              "    </tr>\n",
              "    <tr>\n",
              "      <th>1</th>\n",
              "      <td>2.1200</td>\n",
              "      <td>-0.0462</td>\n",
              "      <td>1.0</td>\n",
              "    </tr>\n",
              "    <tr>\n",
              "      <th>2</th>\n",
              "      <td>0.8820</td>\n",
              "      <td>-0.0758</td>\n",
              "      <td>0.0</td>\n",
              "    </tr>\n",
              "    <tr>\n",
              "      <th>3</th>\n",
              "      <td>-0.0551</td>\n",
              "      <td>-0.0373</td>\n",
              "      <td>1.0</td>\n",
              "    </tr>\n",
              "    <tr>\n",
              "      <th>4</th>\n",
              "      <td>0.8300</td>\n",
              "      <td>-0.5390</td>\n",
              "      <td>1.0</td>\n",
              "    </tr>\n",
              "  </tbody>\n",
              "</table>\n",
              "</div>\n",
              "    <div class=\"colab-df-buttons\">\n",
              "\n",
              "  <div class=\"colab-df-container\">\n",
              "    <button class=\"colab-df-convert\" onclick=\"convertToInteractive('df-fc67e984-3bf0-49ce-b3f3-234017ccad38')\"\n",
              "            title=\"Convert this dataframe to an interactive table.\"\n",
              "            style=\"display:none;\">\n",
              "\n",
              "  <svg xmlns=\"http://www.w3.org/2000/svg\" height=\"24px\" viewBox=\"0 -960 960 960\">\n",
              "    <path d=\"M120-120v-720h720v720H120Zm60-500h600v-160H180v160Zm220 220h160v-160H400v160Zm0 220h160v-160H400v160ZM180-400h160v-160H180v160Zm440 0h160v-160H620v160ZM180-180h160v-160H180v160Zm440 0h160v-160H620v160Z\"/>\n",
              "  </svg>\n",
              "    </button>\n",
              "\n",
              "  <style>\n",
              "    .colab-df-container {\n",
              "      display:flex;\n",
              "      gap: 12px;\n",
              "    }\n",
              "\n",
              "    .colab-df-convert {\n",
              "      background-color: #E8F0FE;\n",
              "      border: none;\n",
              "      border-radius: 50%;\n",
              "      cursor: pointer;\n",
              "      display: none;\n",
              "      fill: #1967D2;\n",
              "      height: 32px;\n",
              "      padding: 0 0 0 0;\n",
              "      width: 32px;\n",
              "    }\n",
              "\n",
              "    .colab-df-convert:hover {\n",
              "      background-color: #E2EBFA;\n",
              "      box-shadow: 0px 1px 2px rgba(60, 64, 67, 0.3), 0px 1px 3px 1px rgba(60, 64, 67, 0.15);\n",
              "      fill: #174EA6;\n",
              "    }\n",
              "\n",
              "    .colab-df-buttons div {\n",
              "      margin-bottom: 4px;\n",
              "    }\n",
              "\n",
              "    [theme=dark] .colab-df-convert {\n",
              "      background-color: #3B4455;\n",
              "      fill: #D2E3FC;\n",
              "    }\n",
              "\n",
              "    [theme=dark] .colab-df-convert:hover {\n",
              "      background-color: #434B5C;\n",
              "      box-shadow: 0px 1px 3px 1px rgba(0, 0, 0, 0.15);\n",
              "      filter: drop-shadow(0px 1px 2px rgba(0, 0, 0, 0.3));\n",
              "      fill: #FFFFFF;\n",
              "    }\n",
              "  </style>\n",
              "\n",
              "    <script>\n",
              "      const buttonEl =\n",
              "        document.querySelector('#df-fc67e984-3bf0-49ce-b3f3-234017ccad38 button.colab-df-convert');\n",
              "      buttonEl.style.display =\n",
              "        google.colab.kernel.accessAllowed ? 'block' : 'none';\n",
              "\n",
              "      async function convertToInteractive(key) {\n",
              "        const element = document.querySelector('#df-fc67e984-3bf0-49ce-b3f3-234017ccad38');\n",
              "        const dataTable =\n",
              "          await google.colab.kernel.invokeFunction('convertToInteractive',\n",
              "                                                    [key], {});\n",
              "        if (!dataTable) return;\n",
              "\n",
              "        const docLinkHtml = 'Like what you see? Visit the ' +\n",
              "          '<a target=\"_blank\" href=https://colab.research.google.com/notebooks/data_table.ipynb>data table notebook</a>'\n",
              "          + ' to learn more about interactive tables.';\n",
              "        element.innerHTML = '';\n",
              "        dataTable['output_type'] = 'display_data';\n",
              "        await google.colab.output.renderOutput(dataTable, element);\n",
              "        const docLink = document.createElement('div');\n",
              "        docLink.innerHTML = docLinkHtml;\n",
              "        element.appendChild(docLink);\n",
              "      }\n",
              "    </script>\n",
              "  </div>\n",
              "\n",
              "\n",
              "    <div id=\"df-1574b557-94be-4606-ab64-2ec6f789abbc\">\n",
              "      <button class=\"colab-df-quickchart\" onclick=\"quickchart('df-1574b557-94be-4606-ab64-2ec6f789abbc')\"\n",
              "                title=\"Suggest charts\"\n",
              "                style=\"display:none;\">\n",
              "\n",
              "<svg xmlns=\"http://www.w3.org/2000/svg\" height=\"24px\"viewBox=\"0 0 24 24\"\n",
              "     width=\"24px\">\n",
              "    <g>\n",
              "        <path d=\"M19 3H5c-1.1 0-2 .9-2 2v14c0 1.1.9 2 2 2h14c1.1 0 2-.9 2-2V5c0-1.1-.9-2-2-2zM9 17H7v-7h2v7zm4 0h-2V7h2v10zm4 0h-2v-4h2v4z\"/>\n",
              "    </g>\n",
              "</svg>\n",
              "      </button>\n",
              "\n",
              "<style>\n",
              "  .colab-df-quickchart {\n",
              "      --bg-color: #E8F0FE;\n",
              "      --fill-color: #1967D2;\n",
              "      --hover-bg-color: #E2EBFA;\n",
              "      --hover-fill-color: #174EA6;\n",
              "      --disabled-fill-color: #AAA;\n",
              "      --disabled-bg-color: #DDD;\n",
              "  }\n",
              "\n",
              "  [theme=dark] .colab-df-quickchart {\n",
              "      --bg-color: #3B4455;\n",
              "      --fill-color: #D2E3FC;\n",
              "      --hover-bg-color: #434B5C;\n",
              "      --hover-fill-color: #FFFFFF;\n",
              "      --disabled-bg-color: #3B4455;\n",
              "      --disabled-fill-color: #666;\n",
              "  }\n",
              "\n",
              "  .colab-df-quickchart {\n",
              "    background-color: var(--bg-color);\n",
              "    border: none;\n",
              "    border-radius: 50%;\n",
              "    cursor: pointer;\n",
              "    display: none;\n",
              "    fill: var(--fill-color);\n",
              "    height: 32px;\n",
              "    padding: 0;\n",
              "    width: 32px;\n",
              "  }\n",
              "\n",
              "  .colab-df-quickchart:hover {\n",
              "    background-color: var(--hover-bg-color);\n",
              "    box-shadow: 0 1px 2px rgba(60, 64, 67, 0.3), 0 1px 3px 1px rgba(60, 64, 67, 0.15);\n",
              "    fill: var(--button-hover-fill-color);\n",
              "  }\n",
              "\n",
              "  .colab-df-quickchart-complete:disabled,\n",
              "  .colab-df-quickchart-complete:disabled:hover {\n",
              "    background-color: var(--disabled-bg-color);\n",
              "    fill: var(--disabled-fill-color);\n",
              "    box-shadow: none;\n",
              "  }\n",
              "\n",
              "  .colab-df-spinner {\n",
              "    border: 2px solid var(--fill-color);\n",
              "    border-color: transparent;\n",
              "    border-bottom-color: var(--fill-color);\n",
              "    animation:\n",
              "      spin 1s steps(1) infinite;\n",
              "  }\n",
              "\n",
              "  @keyframes spin {\n",
              "    0% {\n",
              "      border-color: transparent;\n",
              "      border-bottom-color: var(--fill-color);\n",
              "      border-left-color: var(--fill-color);\n",
              "    }\n",
              "    20% {\n",
              "      border-color: transparent;\n",
              "      border-left-color: var(--fill-color);\n",
              "      border-top-color: var(--fill-color);\n",
              "    }\n",
              "    30% {\n",
              "      border-color: transparent;\n",
              "      border-left-color: var(--fill-color);\n",
              "      border-top-color: var(--fill-color);\n",
              "      border-right-color: var(--fill-color);\n",
              "    }\n",
              "    40% {\n",
              "      border-color: transparent;\n",
              "      border-right-color: var(--fill-color);\n",
              "      border-top-color: var(--fill-color);\n",
              "    }\n",
              "    60% {\n",
              "      border-color: transparent;\n",
              "      border-right-color: var(--fill-color);\n",
              "    }\n",
              "    80% {\n",
              "      border-color: transparent;\n",
              "      border-right-color: var(--fill-color);\n",
              "      border-bottom-color: var(--fill-color);\n",
              "    }\n",
              "    90% {\n",
              "      border-color: transparent;\n",
              "      border-bottom-color: var(--fill-color);\n",
              "    }\n",
              "  }\n",
              "</style>\n",
              "\n",
              "      <script>\n",
              "        async function quickchart(key) {\n",
              "          const quickchartButtonEl =\n",
              "            document.querySelector('#' + key + ' button');\n",
              "          quickchartButtonEl.disabled = true;  // To prevent multiple clicks.\n",
              "          quickchartButtonEl.classList.add('colab-df-spinner');\n",
              "          try {\n",
              "            const charts = await google.colab.kernel.invokeFunction(\n",
              "                'suggestCharts', [key], {});\n",
              "          } catch (error) {\n",
              "            console.error('Error during call to suggestCharts:', error);\n",
              "          }\n",
              "          quickchartButtonEl.classList.remove('colab-df-spinner');\n",
              "          quickchartButtonEl.classList.add('colab-df-quickchart-complete');\n",
              "        }\n",
              "        (() => {\n",
              "          let quickchartButtonEl =\n",
              "            document.querySelector('#df-1574b557-94be-4606-ab64-2ec6f789abbc button');\n",
              "          quickchartButtonEl.style.display =\n",
              "            google.colab.kernel.accessAllowed ? 'block' : 'none';\n",
              "        })();\n",
              "      </script>\n",
              "    </div>\n",
              "\n",
              "    </div>\n",
              "  </div>\n"
            ],
            "application/vnd.google.colaboratory.intrinsic+json": {
              "type": "dataframe",
              "variable_name": "df",
              "summary": "{\n  \"name\": \"df\",\n  \"rows\": 100,\n  \"fields\": [\n    {\n      \"column\": \"X\",\n      \"properties\": {\n        \"dtype\": \"number\",\n        \"std\": 0.8912634114247282,\n        \"min\": -1.32,\n        \"max\": 2.18,\n        \"num_unique_values\": 97,\n        \"samples\": [\n          0.127,\n          1.52,\n          0.219\n        ],\n        \"semantic_type\": \"\",\n        \"description\": \"\"\n      }\n    },\n    {\n      \"column\": \"Y\",\n      \"properties\": {\n        \"dtype\": \"number\",\n        \"std\": 0.5930233063379892,\n        \"min\": -1.04,\n        \"max\": 1.57,\n        \"num_unique_values\": 98,\n        \"samples\": [\n          -0.38,\n          -0.394,\n          -0.653\n        ],\n        \"semantic_type\": \"\",\n        \"description\": \"\"\n      }\n    },\n    {\n      \"column\": \"class\",\n      \"properties\": {\n        \"dtype\": \"number\",\n        \"std\": 0.502518907629606,\n        \"min\": 0.0,\n        \"max\": 1.0,\n        \"num_unique_values\": 2,\n        \"samples\": [\n          1.0,\n          0.0\n        ],\n        \"semantic_type\": \"\",\n        \"description\": \"\"\n      }\n    }\n  ]\n}"
            }
          },
          "metadata": {},
          "execution_count": 3
        }
      ]
    },
    {
      "cell_type": "code",
      "source": [
        "plt.scatter(df['X'],df['Y'],c=df['class'])"
      ],
      "metadata": {
        "colab": {
          "base_uri": "https://localhost:8080/",
          "height": 447
        },
        "id": "Vpiwu_Vnsj_q",
        "outputId": "8eeeef36-e9c2-4df4-efb2-b518b728b041"
      },
      "execution_count": 4,
      "outputs": [
        {
          "output_type": "execute_result",
          "data": {
            "text/plain": [
              "<matplotlib.collections.PathCollection at 0x783ac86f9110>"
            ]
          },
          "metadata": {},
          "execution_count": 4
        },
        {
          "output_type": "display_data",
          "data": {
            "text/plain": [
              "<Figure size 640x480 with 1 Axes>"
            ],
            "image/png": "[encoded data removed]"
          },
          "metadata": {}
        }
      ]
    },
    {
      "cell_type": "code",
      "source": [
        "X = df.iloc[:,0:2].values\n",
        "y = df.iloc[:,-1].values"
      ],
      "metadata": {
        "id": "8pjUFl5JsmKk"
      },
      "execution_count": 5,
      "outputs": []
    },
    {
      "cell_type": "markdown",
      "source": [
        "# Xavier/Glorat Weight Initialization(Normal)"
      ],
      "metadata": {
        "id": "0PYgSmzYtyaq"
      }
    },
    {
      "cell_type": "code",
      "source": [
        "import tensorflow\n",
        "from tensorflow import keras\n",
        "from keras import Sequential\n",
        "from keras.layers import Dense"
      ],
      "metadata": {
        "id": "4vjCMcGLspCM"
      },
      "execution_count": 6,
      "outputs": []
    },
    {
      "cell_type": "code",
      "source": [
        "model = Sequential()\n",
        "\n",
        "model.add(Dense(10,activation='tanh',input_dim=2))\n",
        "model.add(Dense(10,activation='tanh'))\n",
        "model.add(Dense(10,activation='tanh'))\n",
        "model.add(Dense(10,activation='tanh'))\n",
        "model.add(Dense(1,activation='sigmoid'))\n",
        "\n",
        "model.summary()"
      ],
      "metadata": {
        "colab": {
          "base_uri": "https://localhost:8080/",
          "height": 344
        },
        "id": "Ll_ZlIemsrFc",
        "outputId": "23bf648a-2e1c-49dc-a675-3beea9c31877"
      },
      "execution_count": 7,
      "outputs": [
        {
          "output_type": "stream",
          "name": "stderr",
          "text": [
            "/usr/local/lib/python3.11/dist-packages/keras/src/layers/core/dense.py:87: UserWarning: Do not pass an `input_shape`/`input_dim` argument to a layer. When using Sequential models, prefer using an `Input(shape)` object as the first layer in the model instead.\n",
            "  super().__init__(activity_regularizer=activity_regularizer, **kwargs)\n"
          ]
        },
        {
          "output_type": "display_data",
          "data": {
            "text/plain": [
              "\u001b[1mModel: \"sequential\"\u001b[0m\n"
            ],
            "text/html": [
              "<pre style=\"white-space:pre;overflow-x:auto;line-height:normal;font-family:Menlo,'DejaVu Sans Mono',consolas,'Courier New',monospace\"><span style=\"font-weight: bold\">Model: \"sequential\"</span>\n",
              "</pre>\n"
            ]
          },
          "metadata": {}
        },
        {
          "output_type": "display_data",
          "data": {
            "text/plain": [
              "┏━━━━━━━━━━━━━━━━━━━━━━━━━━━━━━━━━┳━━━━━━━━━━━━━━━━━━━━━━━━┳━━━━━━━━━━━━━━━┓\n",
              "┃\u001b[1m \u001b[0m\u001b[1mLayer (type)                   \u001b[0m\u001b[1m \u001b[0m┃\u001b[1m \u001b[0m\u001b[1mOutput Shape          \u001b[0m\u001b[1m \u001b[0m┃\u001b[1m \u001b[0m\u001b[1m      Param #\u001b[0m\u001b[1m \u001b[0m┃\n",
              "┡━━━━━━━━━━━━━━━━━━━━━━━━━━━━━━━━━╇━━━━━━━━━━━━━━━━━━━━━━━━╇━━━━━━━━━━━━━━━┩\n",
              "│ dense (\u001b[38;5;33mDense\u001b[0m)                   │ (\u001b[38;5;45mNone\u001b[0m, \u001b[38;5;34m10\u001b[0m)             │            \u001b[38;5;34m30\u001b[0m │\n",
              "├─────────────────────────────────┼────────────────────────┼───────────────┤\n",
              "│ dense_1 (\u001b[38;5;33mDense\u001b[0m)                 │ (\u001b[38;5;45mNone\u001b[0m, \u001b[38;5;34m10\u001b[0m)             │           \u001b[38;5;34m110\u001b[0m │\n",
              "├─────────────────────────────────┼────────────────────────┼───────────────┤\n",
              "│ dense_2 (\u001b[38;5;33mDense\u001b[0m)                 │ (\u001b[38;5;45mNone\u001b[0m, \u001b[38;5;34m10\u001b[0m)             │           \u001b[38;5;34m110\u001b[0m │\n",
              "├─────────────────────────────────┼────────────────────────┼───────────────┤\n",
              "│ dense_3 (\u001b[38;5;33mDense\u001b[0m)                 │ (\u001b[38;5;45mNone\u001b[0m, \u001b[38;5;34m10\u001b[0m)             │           \u001b[38;5;34m110\u001b[0m │\n",
              "├─────────────────────────────────┼────────────────────────┼───────────────┤\n",
              "│ dense_4 (\u001b[38;5;33mDense\u001b[0m)                 │ (\u001b[38;5;45mNone\u001b[0m, \u001b[38;5;34m1\u001b[0m)              │            \u001b[38;5;34m11\u001b[0m │\n",
              "└─────────────────────────────────┴────────────────────────┴───────────────┘\n"
            ],
            "text/html": [
              "<pre style=\"white-space:pre;overflow-x:auto;line-height:normal;font-family:Menlo,'DejaVu Sans Mono',consolas,'Courier New',monospace\">┏━━━━━━━━━━━━━━━━━━━━━━━━━━━━━━━━━┳━━━━━━━━━━━━━━━━━━━━━━━━┳━━━━━━━━━━━━━━━┓\n",
              "┃<span style=\"font-weight: bold\"> Layer (type)                    </span>┃<span style=\"font-weight: bold\"> Output Shape           </span>┃<span style=\"font-weight: bold\">       Param # </span>┃\n",
              "┡━━━━━━━━━━━━━━━━━━━━━━━━━━━━━━━━━╇━━━━━━━━━━━━━━━━━━━━━━━━╇━━━━━━━━━━━━━━━┩\n",
              "│ dense (<span style=\"color: #0087ff; text-decoration-color: #0087ff\">Dense</span>)                   │ (<span style=\"color: #00d7ff; text-decoration-color: #00d7ff\">None</span>, <span style=\"color: #00af00; text-decoration-color: #00af00\">10</span>)             │            <span style=\"color: #00af00; text-decoration-color: #00af00\">30</span> │\n",
              "├─────────────────────────────────┼────────────────────────┼───────────────┤\n",
              "│ dense_1 (<span style=\"color: #0087ff; text-decoration-color: #0087ff\">Dense</span>)                 │ (<span style=\"color: #00d7ff; text-decoration-color: #00d7ff\">None</span>, <span style=\"color: #00af00; text-decoration-color: #00af00\">10</span>)             │           <span style=\"color: #00af00; text-decoration-color: #00af00\">110</span> │\n",
              "├─────────────────────────────────┼────────────────────────┼───────────────┤\n",
              "│ dense_2 (<span style=\"color: #0087ff; text-decoration-color: #0087ff\">Dense</span>)                 │ (<span style=\"color: #00d7ff; text-decoration-color: #00d7ff\">None</span>, <span style=\"color: #00af00; text-decoration-color: #00af00\">10</span>)             │           <span style=\"color: #00af00; text-decoration-color: #00af00\">110</span> │\n",
              "├─────────────────────────────────┼────────────────────────┼───────────────┤\n",
              "│ dense_3 (<span style=\"color: #0087ff; text-decoration-color: #0087ff\">Dense</span>)                 │ (<span style=\"color: #00d7ff; text-decoration-color: #00d7ff\">None</span>, <span style=\"color: #00af00; text-decoration-color: #00af00\">10</span>)             │           <span style=\"color: #00af00; text-decoration-color: #00af00\">110</span> │\n",
              "├─────────────────────────────────┼────────────────────────┼───────────────┤\n",
              "│ dense_4 (<span style=\"color: #0087ff; text-decoration-color: #0087ff\">Dense</span>)                 │ (<span style=\"color: #00d7ff; text-decoration-color: #00d7ff\">None</span>, <span style=\"color: #00af00; text-decoration-color: #00af00\">1</span>)              │            <span style=\"color: #00af00; text-decoration-color: #00af00\">11</span> │\n",
              "└─────────────────────────────────┴────────────────────────┴───────────────┘\n",
              "</pre>\n"
            ]
          },
          "metadata": {}
        },
        {
          "output_type": "display_data",
          "data": {
            "text/plain": [
              "\u001b[1m Total params: \u001b[0m\u001b[38;5;34m371\u001b[0m (1.45 KB)\n"
            ],
            "text/html": [
              "<pre style=\"white-space:pre;overflow-x:auto;line-height:normal;font-family:Menlo,'DejaVu Sans Mono',consolas,'Courier New',monospace\"><span style=\"font-weight: bold\"> Total params: </span><span style=\"color: #00af00; text-decoration-color: #00af00\">371</span> (1.45 KB)\n",
              "</pre>\n"
            ]
          },
          "metadata": {}
        },
        {
          "output_type": "display_data",
          "data": {
            "text/plain": [
              "\u001b[1m Trainable params: \u001b[0m\u001b[38;5;34m371\u001b[0m (1.45 KB)\n"
            ],
            "text/html": [
              "<pre style=\"white-space:pre;overflow-x:auto;line-height:normal;font-family:Menlo,'DejaVu Sans Mono',consolas,'Courier New',monospace\"><span style=\"font-weight: bold\"> Trainable params: </span><span style=\"color: #00af00; text-decoration-color: #00af00\">371</span> (1.45 KB)\n",
              "</pre>\n"
            ]
          },
          "metadata": {}
        },
        {
          "output_type": "display_data",
          "data": {
            "text/plain": [
              "\u001b[1m Non-trainable params: \u001b[0m\u001b[38;5;34m0\u001b[0m (0.00 B)\n"
            ],
            "text/html": [
              "<pre style=\"white-space:pre;overflow-x:auto;line-height:normal;font-family:Menlo,'DejaVu Sans Mono',consolas,'Courier New',monospace\"><span style=\"font-weight: bold\"> Non-trainable params: </span><span style=\"color: #00af00; text-decoration-color: #00af00\">0</span> (0.00 B)\n",
              "</pre>\n"
            ]
          },
          "metadata": {}
        }
      ]
    },
    {
      "cell_type": "code",
      "source": [
        "model.get_weights()"
      ],
      "metadata": {
        "colab": {
          "base_uri": "https://localhost:8080/"
        },
        "id": "wZ6Cja3StFhB",
        "outputId": "424e92dd-25c4-4baf-d103-95a344785dfe"
      },
      "execution_count": 8,
      "outputs": [
        {
          "output_type": "execute_result",
          "data": {
            "text/plain": [
              "[array([[ 0.12524354,  0.6810196 ,  0.23300076, -0.5454497 , -0.4507248 ,\n",
              "         -0.2363742 , -0.40013188, -0.01809752, -0.1785971 ,  0.62959784],\n",
              "        [-0.11907613, -0.45826268, -0.31900275,  0.5152032 ,  0.64582056,\n",
              "         -0.358114  ,  0.11399812, -0.15071833, -0.66568065,  0.10797113]],\n",
              "       dtype=float32),\n",
              " array([0., 0., 0., 0., 0., 0., 0., 0., 0., 0.], dtype=float32),\n",
              " array([[ 0.01014334, -0.37028143, -0.0429405 , -0.12501639,  0.36082   ,\n",
              "         -0.19088343,  0.38425428,  0.5127547 ,  0.11544359,  0.19494075],\n",
              "        [ 0.199597  , -0.00965768, -0.3152248 , -0.5249423 ,  0.5437839 ,\n",
              "         -0.5402688 , -0.42416406,  0.46628928,  0.28330564,  0.29079753],\n",
              "        [-0.43242005, -0.4861657 , -0.4375383 , -0.39023632,  0.06062824,\n",
              "          0.01774406, -0.13685152,  0.46706092, -0.5456661 ,  0.13904095],\n",
              "        [ 0.31713766,  0.25777882,  0.4100114 , -0.31097746,  0.38602686,\n",
              "          0.39995557,  0.2027666 ,  0.22761434,  0.52448845, -0.45207748],\n",
              "        [-0.52605593,  0.24026692,  0.4468208 , -0.49474046,  0.2441377 ,\n",
              "         -0.31051362,  0.24295586,  0.4756111 ,  0.40409023,  0.12812346],\n",
              "        [ 0.04372805,  0.15726358, -0.47886276,  0.21914756,  0.20676804,\n",
              "         -0.28187308, -0.20225012,  0.05639499, -0.52714515,  0.52761066],\n",
              "        [ 0.39861   , -0.5215432 , -0.14918455,  0.33771038, -0.09271851,\n",
              "          0.53838253,  0.06754535, -0.42510533, -0.3370812 ,  0.21739626],\n",
              "        [ 0.3458978 ,  0.34562552,  0.48413897,  0.36117285,  0.3642612 ,\n",
              "          0.01690751, -0.44990125, -0.25834647, -0.1899445 ,  0.04975778],\n",
              "        [-0.17051166,  0.1914084 , -0.03895903, -0.02277309, -0.06773913,\n",
              "          0.03225672,  0.18370962,  0.19949067,  0.43375415,  0.24912572],\n",
              "        [-0.3076604 ,  0.38985085,  0.43376404,  0.19811118, -0.43381774,\n",
              "          0.13373816,  0.0128212 , -0.24153128,  0.45253432, -0.00274783]],\n",
              "       dtype=float32),\n",
              " array([0., 0., 0., 0., 0., 0., 0., 0., 0., 0.], dtype=float32),\n",
              " array([[-0.2892942 ,  0.4391266 ,  0.28016943,  0.1622194 , -0.18707785,\n",
              "         -0.37540096,  0.24356401,  0.29952115,  0.2710473 , -0.50457823],\n",
              "        [-0.48061198, -0.23094639,  0.1144067 ,  0.25653094,  0.26476943,\n",
              "          0.09508854, -0.36278036, -0.26077905, -0.09418029, -0.3142232 ],\n",
              "        [-0.04258609,  0.40517223,  0.42570537, -0.4972817 , -0.13734865,\n",
              "         -0.05026591, -0.3909356 ,  0.2518397 , -0.04586226, -0.54353476],\n",
              "        [ 0.4739573 , -0.36584342,  0.21486145, -0.5100193 ,  0.49689674,\n",
              "         -0.44759232, -0.3275934 , -0.02907395,  0.39620793, -0.36225212],\n",
              "        [-0.22325715, -0.01908702,  0.00841802,  0.02913505,  0.36336654,\n",
              "          0.13044542, -0.36232185,  0.22714972, -0.40374807, -0.36946055],\n",
              "        [-0.45241034,  0.23482221, -0.27890834,  0.4646734 , -0.345567  ,\n",
              "          0.01814747,  0.07291353,  0.12818694,  0.18586886,  0.20620036],\n",
              "        [-0.5240691 , -0.0678564 ,  0.43391162, -0.14410797,  0.43943065,\n",
              "          0.23213422,  0.38454467, -0.31926805, -0.1892196 , -0.36212495],\n",
              "        [ 0.36921686, -0.09110692,  0.18695784, -0.33196986,  0.26833063,\n",
              "          0.4478022 , -0.06287161,  0.16503876,  0.43480784, -0.5335821 ],\n",
              "        [-0.37949407,  0.1531412 , -0.46292484, -0.533951  , -0.3370334 ,\n",
              "         -0.3101157 ,  0.04732001, -0.2860806 , -0.18983442,  0.4540918 ],\n",
              "        [-0.49543726, -0.04636109, -0.53157717, -0.29223466,  0.23485398,\n",
              "          0.4595225 , -0.17408729,  0.29250115, -0.36636448, -0.336715  ]],\n",
              "       dtype=float32),\n",
              " array([0., 0., 0., 0., 0., 0., 0., 0., 0., 0.], dtype=float32),\n",
              " array([[ 0.38582247, -0.5235184 ,  0.04337484, -0.14759204, -0.06816027,\n",
              "         -0.04294503,  0.2307145 , -0.3505894 , -0.16027051,  0.02980351],\n",
              "        [ 0.2424531 , -0.02324557,  0.537989  ,  0.4839481 ,  0.40794265,\n",
              "         -0.32644263,  0.24670005, -0.21520346,  0.43729198,  0.19628513],\n",
              "        [ 0.17118055, -0.27837086, -0.39876616,  0.33652997, -0.11884287,\n",
              "          0.02738857,  0.34805208, -0.2183061 , -0.08741274,  0.2992016 ],\n",
              "        [-0.17916411,  0.12516606, -0.37545788,  0.11698282, -0.13124853,\n",
              "         -0.14417693, -0.02911431,  0.25587082, -0.2736001 ,  0.23468852],\n",
              "        [ 0.26121837,  0.4206019 , -0.0931313 ,  0.21786493, -0.113377  ,\n",
              "         -0.43951762,  0.2523554 ,  0.25963628, -0.17095071,  0.52204454],\n",
              "        [-0.04745305,  0.29221624,  0.35272735, -0.29603225, -0.21511519,\n",
              "          0.05634916, -0.40473843,  0.20292044, -0.3293918 , -0.37008125],\n",
              "        [ 0.18842208, -0.21861556, -0.2525241 , -0.14312544,  0.01752782,\n",
              "          0.23199373,  0.2892108 ,  0.23292339,  0.3393752 , -0.36765128],\n",
              "        [-0.4880117 ,  0.08099163, -0.07546309,  0.4504872 , -0.09307513,\n",
              "         -0.2962843 ,  0.21306455, -0.5359646 ,  0.23806405, -0.19020304],\n",
              "        [ 0.48144138,  0.4603896 , -0.4049484 ,  0.05188429,  0.49763083,\n",
              "          0.53703344,  0.26119536,  0.03459412,  0.4266907 , -0.4707683 ],\n",
              "        [-0.03885639, -0.04790947,  0.15915018, -0.3552209 , -0.27893212,\n",
              "          0.3583396 , -0.12844652, -0.44748944, -0.19550815,  0.04268873]],\n",
              "       dtype=float32),\n",
              " array([0., 0., 0., 0., 0., 0., 0., 0., 0., 0.], dtype=float32),\n",
              " array([[-0.25956616],\n",
              "        [-0.22468817],\n",
              "        [-0.10671735],\n",
              "        [-0.15954739],\n",
              "        [-0.48313642],\n",
              "        [-0.3427469 ],\n",
              "        [ 0.31449634],\n",
              "        [-0.61812896],\n",
              "        [-0.05405933],\n",
              "        [ 0.16972697]], dtype=float32),\n",
              " array([0.], dtype=float32)]"
            ]
          },
          "metadata": {},
          "execution_count": 8
        }
      ]
    },
    {
      "cell_type": "code",
      "source": [
        "initial_weights = model.get_weights()"
      ],
      "metadata": {
        "id": "15u90qzTtJGO"
      },
      "execution_count": 9,
      "outputs": []
    },
    {
      "cell_type": "code",
      "source": [
        "initial_weights[0] = np.random.randn(2,10)*np.sqrt(1/2)\n",
        "initial_weights[1] = np.zeros(model.get_weights()[1].shape)\n",
        "initial_weights[2] = np.random.randn(10,10)*np.sqrt(1/10)\n",
        "initial_weights[3] = np.zeros(model.get_weights()[3].shape)\n",
        "initial_weights[4] = np.random.randn(10,10)*np.sqrt(1/10)\n",
        "initial_weights[5] = np.zeros(model.get_weights()[5].shape)\n",
        "initial_weights[6] = np.random.randn(10,10)*np.sqrt(1/10)\n",
        "initial_weights[7] = np.zeros(model.get_weights()[7].shape)\n",
        "initial_weights[8] = np.random.randn(10,1)*np.sqrt(1/10)\n",
        "initial_weights[9] = np.zeros(model.get_weights()[9].shape)"
      ],
      "metadata": {
        "id": "20XayQChtOFf"
      },
      "execution_count": 10,
      "outputs": []
    },
    {
      "cell_type": "code",
      "source": [
        "model.set_weights(initial_weights)"
      ],
      "metadata": {
        "id": "747VTJlNtS84"
      },
      "execution_count": 11,
      "outputs": []
    },
    {
      "cell_type": "code",
      "source": [
        "model.get_weights()"
      ],
      "metadata": {
        "colab": {
          "base_uri": "https://localhost:8080/"
        },
        "id": "WWC2m9sOtVhb",
        "outputId": "e7072b9e-74bf-40f4-d692-9c1b27d75d10"
      },
      "execution_count": 12,
      "outputs": [
        {
          "output_type": "execute_result",
          "data": {
            "text/plain": [
              "[array([[ 0.94505507,  0.08731986,  0.69000906, -1.194806  ,  0.25114417,\n",
              "         -0.5629481 , -0.9165466 , -0.6642901 ,  0.09274936, -1.0816721 ],\n",
              "        [ 0.66427433, -1.0829968 , -0.3707922 ,  0.9707048 , -0.3297712 ,\n",
              "         -0.31420583, -0.8019209 , -1.3735977 , -0.61518806,  0.11894254]],\n",
              "       dtype=float32),\n",
              " array([0., 0., 0., 0., 0., 0., 0., 0., 0., 0.], dtype=float32),\n",
              " array([[-4.8290533e-01, -3.1937742e-01, -1.3818604e-01,  4.5835450e-01,\n",
              "          6.7043595e-02, -3.8276933e-02, -5.0538540e-01,  2.3500414e-01,\n",
              "         -4.9402726e-01, -1.0056647e-01],\n",
              "        [ 1.2340024e-01, -1.2886001e-01, -6.4929020e-01, -6.3189514e-02,\n",
              "          2.0757073e-01, -9.4914816e-02, -1.7184246e-01, -5.7439137e-02,\n",
              "         -4.6268588e-01,  3.2995349e-01],\n",
              "        [-3.8250715e-01,  2.0019120e-01,  1.3335866e-01, -4.9680415e-01,\n",
              "         -1.0097796e-01,  3.6741719e-02, -3.4321046e-01,  1.8792281e-01,\n",
              "         -4.6431339e-01,  2.7835128e-01],\n",
              "        [-1.5216497e-01,  2.7232913e-02, -4.9614914e-02,  2.4182060e-01,\n",
              "          2.7172798e-01, -1.3066995e-01, -4.3169522e-01, -1.1861754e-01,\n",
              "          3.1566074e-01, -1.7422462e-01],\n",
              "        [ 1.4743832e-01,  1.1415541e-01, -5.1477242e-01,  9.2136577e-02,\n",
              "         -3.6806321e-01, -6.7816764e-01,  3.2773596e-01, -2.6575243e-01,\n",
              "         -2.2262360e-01,  9.8287925e-02],\n",
              "        [ 7.3187990e-04,  1.7475930e-01,  3.1462455e-01,  3.0411565e-01,\n",
              "         -1.2543644e-01,  5.1155537e-01,  7.3037736e-02,  3.3987704e-01,\n",
              "         -1.8411642e-01,  6.0074055e-01],\n",
              "        [ 1.8785200e-01,  6.5552646e-01, -6.8258151e-02, -4.0006849e-01,\n",
              "         -4.8095822e-01,  5.7082611e-01,  7.4757355e-01, -3.9509773e-02,\n",
              "         -4.0008977e-02,  1.6338944e-01],\n",
              "        [ 1.5973888e-01,  7.9899676e-02,  9.4822258e-02, -3.9902979e-01,\n",
              "          3.0104879e-01,  3.5114244e-01,  2.1535453e-01,  2.1586016e-01,\n",
              "         -3.7606485e-02,  3.1033143e-01],\n",
              "        [ 1.6598831e-01, -8.9623824e-02,  1.8824033e-01,  5.2389372e-02,\n",
              "          1.7719501e-01, -7.1791655e-01,  1.0740455e-02, -8.2630694e-02,\n",
              "          5.5780739e-01, -3.9322463e-01],\n",
              "        [-4.4761220e-01,  1.3302974e-01, -2.8984198e-01,  3.5148233e-02,\n",
              "          5.1205903e-01, -1.4970550e-01, -1.0498618e-01,  3.5919216e-01,\n",
              "          4.2007811e-02,  2.6321864e-01]], dtype=float32),\n",
              " array([0., 0., 0., 0., 0., 0., 0., 0., 0., 0.], dtype=float32),\n",
              " array([[ 1.5620327e-01, -3.0716510e-02, -4.0985382e-01, -4.2953864e-01,\n",
              "          3.6061849e-02, -5.7166670e-02,  9.5382534e-02,  3.0848661e-01,\n",
              "          2.6560220e-01, -5.6987989e-01],\n",
              "        [ 5.2575219e-01, -3.0726680e-01, -7.2964862e-02,  2.7062011e-01,\n",
              "         -2.3620324e-01, -5.7608587e-01, -2.6953048e-01, -1.7989534e-01,\n",
              "          8.5768059e-02, -2.2390934e-02],\n",
              "        [-1.6595851e-01,  3.3381996e-01,  8.9329906e-02,  6.8656015e-01,\n",
              "         -3.3622390e-01, -2.3132423e-01, -2.9043654e-01,  9.1582108e-01,\n",
              "         -2.4156986e-01, -1.8262067e-01],\n",
              "        [ 8.3753020e-02,  2.6168621e-01, -4.4634044e-01, -2.2683731e-01,\n",
              "          2.2009227e-03,  4.6228591e-02, -1.4200960e-01,  6.4502800e-01,\n",
              "         -4.0094918e-01,  2.6665086e-01],\n",
              "        [ 3.9404623e-02,  2.4181411e-01, -1.5051946e-02, -1.9090982e-01,\n",
              "         -4.2699125e-01,  3.3412585e-01, -6.3971084e-01,  6.2394820e-02,\n",
              "         -2.6049767e-02,  2.6164282e-02],\n",
              "        [ 4.1845642e-04,  5.4924458e-01,  4.5046631e-01,  1.2584306e-01,\n",
              "         -3.3902831e-02, -4.5615048e-03, -2.1111605e-01, -1.8743899e-01,\n",
              "          5.7680064e-01,  7.6664828e-02],\n",
              "        [ 6.6108763e-01, -1.6482241e-01, -4.0021062e-01, -7.2023094e-02,\n",
              "         -3.4410161e-01, -4.8429590e-02,  5.8858838e-02, -3.9601767e-01,\n",
              "         -6.0936008e-02,  2.5391999e-01],\n",
              "        [ 1.7801209e-01,  2.5012934e-01,  1.0104191e-01, -4.7838455e-01,\n",
              "          3.4097815e-01, -4.7475070e-01,  4.3070339e-02, -3.2216483e-01,\n",
              "          3.7241567e-02, -5.3512412e-01],\n",
              "        [ 5.4385161e-01,  6.0506785e-01,  5.4185700e-01, -2.2214106e-01,\n",
              "          3.6196259e-01,  1.3305277e-01, -1.6889428e-01,  1.2145591e-01,\n",
              "          1.4069223e-01, -3.9805967e-01],\n",
              "        [ 1.3338494e-01,  4.8300982e-01,  5.2421641e-01, -3.9106324e-02,\n",
              "         -8.3624624e-02,  1.5549405e-01, -2.1695107e-01, -2.6674905e-01,\n",
              "          1.2835047e-01, -3.2900876e-01]], dtype=float32),\n",
              " array([0., 0., 0., 0., 0., 0., 0., 0., 0., 0.], dtype=float32),\n",
              " array([[ 0.10930733,  0.07709821, -0.2698178 , -0.03504539,  0.13404678,\n",
              "          0.2559292 ,  0.20556709, -0.13159637,  0.10913417,  0.6683484 ],\n",
              "        [-0.3953482 , -0.22187556,  0.4410319 , -0.31378198,  0.0569967 ,\n",
              "          0.19796889, -0.10206629,  0.11924606,  0.2510487 , -0.00830409],\n",
              "        [ 0.4081476 , -0.25579047,  0.30174714, -0.12468185, -0.36293676,\n",
              "          0.2521446 ,  0.46494007, -0.47600654,  0.29178858,  0.19063492],\n",
              "        [-0.6091986 ,  0.09810537, -0.9356816 ,  0.6027794 , -0.21027009,\n",
              "          0.14630117, -0.05798113,  0.03387823, -0.8281434 , -0.11807588],\n",
              "        [ 0.1324836 , -0.7010935 , -0.27051753, -0.04392201,  0.34691823,\n",
              "          0.50114316, -0.5685024 , -0.11044382, -0.25954092,  0.5970617 ],\n",
              "        [-0.13345712, -0.03614658, -0.04090891,  0.32535395, -0.1191097 ,\n",
              "          0.19806992,  0.29084426,  0.3579315 ,  0.55744404, -0.24134807],\n",
              "        [ 0.17156607, -0.31940672,  0.3296974 , -0.05290866,  0.5548871 ,\n",
              "         -0.3092171 , -0.05946517, -0.26051176,  0.47117296, -0.1597131 ],\n",
              "        [ 0.35924724, -0.45953175,  0.23578948, -0.5640174 , -0.23230745,\n",
              "         -0.31284258,  0.09414259, -0.09582325,  0.1724989 ,  0.00638337],\n",
              "        [-0.3234756 , -0.14107457,  0.21930584, -0.4946545 ,  0.00181079,\n",
              "          0.6192306 ,  0.31424394,  0.95361185, -0.175022  , -0.18476245],\n",
              "        [ 0.6029793 ,  0.5818614 ,  0.12134472, -0.37503093, -0.3364313 ,\n",
              "         -0.2618354 , -0.0848198 , -0.0533969 , -0.26710176,  0.44621363]],\n",
              "       dtype=float32),\n",
              " array([0., 0., 0., 0., 0., 0., 0., 0., 0., 0.], dtype=float32),\n",
              " array([[ 0.25709727],\n",
              "        [ 0.14400719],\n",
              "        [-0.36359915],\n",
              "        [-0.50314254],\n",
              "        [-0.33455944],\n",
              "        [-0.40340006],\n",
              "        [-0.34015173],\n",
              "        [ 0.09830535],\n",
              "        [ 0.0117109 ],\n",
              "        [-0.36045188]], dtype=float32),\n",
              " array([0.], dtype=float32)]"
            ]
          },
          "metadata": {},
          "execution_count": 12
        }
      ]
    },
    {
      "cell_type": "code",
      "source": [
        "model.compile(loss='binary_crossentropy',optimizer='adam',metrics=['accuracy'])"
      ],
      "metadata": {
        "id": "2_ZQL0_jtXuT"
      },
      "execution_count": 13,
      "outputs": []
    },
    {
      "cell_type": "code",
      "source": [
        "history = model.fit(X,y,epochs=100,validation_split=0.2)"
      ],
      "metadata": {
        "colab": {
          "base_uri": "https://localhost:8080/"
        },
        "id": "_NPrUvpFtc_s",
        "outputId": "faa294f4-8b56-4f5c-8cb8-bec0f615d7fb"
      },
      "execution_count": 14,
      "outputs": [
        {
          "output_type": "stream",
          "name": "stdout",
          "text": [
            "Epoch 1/100\n",
            "\u001b[1m3/3\u001b[0m \u001b[32m━━━━━━━━━━━━━━━━━━━━\u001b[0m\u001b[37m\u001b[0m \u001b[1m6s\u001b[0m 280ms/step - accuracy: 0.5242 - loss: 0.7212 - val_accuracy: 0.7000 - val_loss: 0.6295\n",
            "Epoch 2/100\n",
            "\u001b[1m3/3\u001b[0m \u001b[32m━━━━━━━━━━━━━━━━━━━━\u001b[0m\u001b[37m\u001b[0m \u001b[1m1s\u001b[0m 116ms/step - accuracy: 0.5273 - loss: 0.7286 - val_accuracy: 0.7000 - val_loss: 0.6170\n",
            "Epoch 3/100\n",
            "\u001b[1m3/3\u001b[0m \u001b[32m━━━━━━━━━━━━━━━━━━━━\u001b[0m\u001b[37m\u001b[0m \u001b[1m0s\u001b[0m 146ms/step - accuracy: 0.5469 - loss: 0.7053 - val_accuracy: 0.7500 - val_loss: 0.6051\n",
            "Epoch 4/100\n",
            "\u001b[1m3/3\u001b[0m \u001b[32m━━━━━━━━━━━━━━━━━━━━\u001b[0m\u001b[37m\u001b[0m \u001b[1m0s\u001b[0m 90ms/step - accuracy: 0.5156 - loss: 0.6989 - val_accuracy: 0.7500 - val_loss: 0.5938\n",
            "Epoch 5/100\n",
            "\u001b[1m3/3\u001b[0m \u001b[32m━━━━━━━━━━━━━━━━━━━━\u001b[0m\u001b[37m\u001b[0m \u001b[1m0s\u001b[0m 149ms/step - accuracy: 0.5688 - loss: 0.6729 - val_accuracy: 0.7500 - val_loss: 0.5827\n",
            "Epoch 6/100\n",
            "\u001b[1m3/3\u001b[0m \u001b[32m━━━━━━━━━━━━━━━━━━━━\u001b[0m\u001b[37m\u001b[0m \u001b[1m0s\u001b[0m 141ms/step - accuracy: 0.6109 - loss: 0.6548 - val_accuracy: 0.8000 - val_loss: 0.5723\n",
            "Epoch 7/100\n",
            "\u001b[1m3/3\u001b[0m \u001b[32m━━━━━━━━━━━━━━━━━━━━\u001b[0m\u001b[37m\u001b[0m \u001b[1m1s\u001b[0m 153ms/step - accuracy: 0.5797 - loss: 0.6578 - val_accuracy: 0.8500 - val_loss: 0.5623\n",
            "Epoch 8/100\n",
            "\u001b[1m3/3\u001b[0m \u001b[32m━━━━━━━━━━━━━━━━━━━━\u001b[0m\u001b[37m\u001b[0m \u001b[1m0s\u001b[0m 172ms/step - accuracy: 0.6391 - loss: 0.6401 - val_accuracy: 0.8000 - val_loss: 0.5524\n",
            "Epoch 9/100\n",
            "\u001b[1m3/3\u001b[0m \u001b[32m━━━━━━━━━━━━━━━━━━━━\u001b[0m\u001b[37m\u001b[0m \u001b[1m1s\u001b[0m 134ms/step - accuracy: 0.6477 - loss: 0.6292 - val_accuracy: 0.8000 - val_loss: 0.5427\n",
            "Epoch 10/100\n",
            "\u001b[1m3/3\u001b[0m \u001b[32m━━━━━━━━━━━━━━━━━━━━\u001b[0m\u001b[37m\u001b[0m \u001b[1m0s\u001b[0m 161ms/step - accuracy: 0.7031 - loss: 0.6065 - val_accuracy: 0.8500 - val_loss: 0.5328\n",
            "Epoch 11/100\n",
            "\u001b[1m3/3\u001b[0m \u001b[32m━━━━━━━━━━━━━━━━━━━━\u001b[0m\u001b[37m\u001b[0m \u001b[1m1s\u001b[0m 174ms/step - accuracy: 0.7195 - loss: 0.6004 - val_accuracy: 0.8500 - val_loss: 0.5235\n",
            "Epoch 12/100\n",
            "\u001b[1m3/3\u001b[0m \u001b[32m━━━━━━━━━━━━━━━━━━━━\u001b[0m\u001b[37m\u001b[0m \u001b[1m1s\u001b[0m 193ms/step - accuracy: 0.7219 - loss: 0.5949 - val_accuracy: 0.8500 - val_loss: 0.5141\n",
            "Epoch 13/100\n",
            "\u001b[1m3/3\u001b[0m \u001b[32m━━━━━━━━━━━━━━━━━━━━\u001b[0m\u001b[37m\u001b[0m \u001b[1m1s\u001b[0m 209ms/step - accuracy: 0.7375 - loss: 0.5790 - val_accuracy: 0.8500 - val_loss: 0.5044\n",
            "Epoch 14/100\n",
            "\u001b[1m3/3\u001b[0m \u001b[32m━━━━━━━━━━━━━━━━━━━━\u001b[0m\u001b[37m\u001b[0m \u001b[1m1s\u001b[0m 211ms/step - accuracy: 0.6945 - loss: 0.5772 - val_accuracy: 0.8500 - val_loss: 0.4952\n",
            "Epoch 15/100\n",
            "\u001b[1m3/3\u001b[0m \u001b[32m━━━━━━━━━━━━━━━━━━━━\u001b[0m\u001b[37m\u001b[0m \u001b[1m0s\u001b[0m 150ms/step - accuracy: 0.7672 - loss: 0.5495 - val_accuracy: 0.8500 - val_loss: 0.4853\n",
            "Epoch 16/100\n",
            "\u001b[1m3/3\u001b[0m \u001b[32m━━━━━━━━━━━━━━━━━━━━\u001b[0m\u001b[37m\u001b[0m \u001b[1m1s\u001b[0m 301ms/step - accuracy: 0.7523 - loss: 0.5533 - val_accuracy: 0.8500 - val_loss: 0.4761\n",
            "Epoch 17/100\n",
            "\u001b[1m3/3\u001b[0m \u001b[32m━━━━━━━━━━━━━━━━━━━━\u001b[0m\u001b[37m\u001b[0m \u001b[1m1s\u001b[0m 235ms/step - accuracy: 0.7719 - loss: 0.5323 - val_accuracy: 0.8500 - val_loss: 0.4669\n",
            "Epoch 18/100\n",
            "\u001b[1m3/3\u001b[0m \u001b[32m━━━━━━━━━━━━━━━━━━━━\u001b[0m\u001b[37m\u001b[0m \u001b[1m1s\u001b[0m 211ms/step - accuracy: 0.7820 - loss: 0.5227 - val_accuracy: 0.8500 - val_loss: 0.4578\n",
            "Epoch 19/100\n",
            "\u001b[1m3/3\u001b[0m \u001b[32m━━━━━━━━━━━━━━━━━━━━\u001b[0m\u001b[37m\u001b[0m \u001b[1m1s\u001b[0m 358ms/step - accuracy: 0.8117 - loss: 0.5099 - val_accuracy: 0.8500 - val_loss: 0.4489\n",
            "Epoch 20/100\n",
            "\u001b[1m3/3\u001b[0m \u001b[32m━━━━━━━━━━━━━━━━━━━━\u001b[0m\u001b[37m\u001b[0m \u001b[1m1s\u001b[0m 165ms/step - accuracy: 0.7727 - loss: 0.5199 - val_accuracy: 0.8500 - val_loss: 0.4398\n",
            "Epoch 21/100\n",
            "\u001b[1m3/3\u001b[0m \u001b[32m━━━━━━━━━━━━━━━━━━━━\u001b[0m\u001b[37m\u001b[0m \u001b[1m1s\u001b[0m 221ms/step - accuracy: 0.7805 - loss: 0.5143 - val_accuracy: 0.8500 - val_loss: 0.4307\n",
            "Epoch 22/100\n",
            "\u001b[1m3/3\u001b[0m \u001b[32m━━━━━━━━━━━━━━━━━━━━\u001b[0m\u001b[37m\u001b[0m \u001b[1m0s\u001b[0m 123ms/step - accuracy: 0.7867 - loss: 0.5058 - val_accuracy: 0.8500 - val_loss: 0.4223\n",
            "Epoch 23/100\n",
            "\u001b[1m3/3\u001b[0m \u001b[32m━━━━━━━━━━━━━━━━━━━━\u001b[0m\u001b[37m\u001b[0m \u001b[1m1s\u001b[0m 194ms/step - accuracy: 0.8281 - loss: 0.4805 - val_accuracy: 0.8500 - val_loss: 0.4138\n",
            "Epoch 24/100\n",
            "\u001b[1m3/3\u001b[0m \u001b[32m━━━━━━━━━━━━━━━━━━━━\u001b[0m\u001b[37m\u001b[0m \u001b[1m0s\u001b[0m 79ms/step - accuracy: 0.8305 - loss: 0.4805 - val_accuracy: 0.8500 - val_loss: 0.4056\n",
            "Epoch 25/100\n",
            "\u001b[1m3/3\u001b[0m \u001b[32m━━━━━━━━━━━━━━━━━━━━\u001b[0m\u001b[37m\u001b[0m \u001b[1m0s\u001b[0m 73ms/step - accuracy: 0.8344 - loss: 0.4764 - val_accuracy: 0.8500 - val_loss: 0.3968\n",
            "Epoch 26/100\n",
            "\u001b[1m3/3\u001b[0m \u001b[32m━━━━━━━━━━━━━━━━━━━━\u001b[0m\u001b[37m\u001b[0m \u001b[1m0s\u001b[0m 80ms/step - accuracy: 0.8227 - loss: 0.4701 - val_accuracy: 0.8500 - val_loss: 0.3879\n",
            "Epoch 27/100\n",
            "\u001b[1m3/3\u001b[0m \u001b[32m━━━━━━━━━━━━━━━━━━━━\u001b[0m\u001b[37m\u001b[0m \u001b[1m0s\u001b[0m 122ms/step - accuracy: 0.8070 - loss: 0.4785 - val_accuracy: 0.8500 - val_loss: 0.3790\n",
            "Epoch 28/100\n",
            "\u001b[1m3/3\u001b[0m \u001b[32m━━━━━━━━━━━━━━━━━━━━\u001b[0m\u001b[37m\u001b[0m \u001b[1m0s\u001b[0m 84ms/step - accuracy: 0.8109 - loss: 0.4699 - val_accuracy: 0.8500 - val_loss: 0.3706\n",
            "Epoch 29/100\n",
            "\u001b[1m3/3\u001b[0m \u001b[32m━━━━━━━━━━━━━━━━━━━━\u001b[0m\u001b[37m\u001b[0m \u001b[1m0s\u001b[0m 119ms/step - accuracy: 0.8109 - loss: 0.4636 - val_accuracy: 0.8500 - val_loss: 0.3622\n",
            "Epoch 30/100\n",
            "\u001b[1m3/3\u001b[0m \u001b[32m━━━━━━━━━━━━━━━━━━━━\u001b[0m\u001b[37m\u001b[0m \u001b[1m0s\u001b[0m 126ms/step - accuracy: 0.8266 - loss: 0.4329 - val_accuracy: 0.8500 - val_loss: 0.3543\n",
            "Epoch 31/100\n",
            "\u001b[1m3/3\u001b[0m \u001b[32m━━━━━━━━━━━━━━━━━━━━\u001b[0m\u001b[37m\u001b[0m \u001b[1m1s\u001b[0m 79ms/step - accuracy: 0.7914 - loss: 0.4802 - val_accuracy: 0.9000 - val_loss: 0.3473\n",
            "Epoch 32/100\n",
            "\u001b[1m3/3\u001b[0m \u001b[32m━━━━━━━━━━━━━━━━━━━━\u001b[0m\u001b[37m\u001b[0m \u001b[1m0s\u001b[0m 90ms/step - accuracy: 0.8422 - loss: 0.4133 - val_accuracy: 0.9000 - val_loss: 0.3403\n",
            "Epoch 33/100\n",
            "\u001b[1m3/3\u001b[0m \u001b[32m━━━━━━━━━━━━━━━━━━━━\u001b[0m\u001b[37m\u001b[0m \u001b[1m0s\u001b[0m 115ms/step - accuracy: 0.8305 - loss: 0.4347 - val_accuracy: 0.9000 - val_loss: 0.3344\n",
            "Epoch 34/100\n",
            "\u001b[1m3/3\u001b[0m \u001b[32m━━━━━━━━━━━━━━━━━━━━\u001b[0m\u001b[37m\u001b[0m \u001b[1m1s\u001b[0m 151ms/step - accuracy: 0.8422 - loss: 0.4094 - val_accuracy: 0.9000 - val_loss: 0.3286\n",
            "Epoch 35/100\n",
            "\u001b[1m3/3\u001b[0m \u001b[32m━━━━━━━━━━━━━━━━━━━━\u001b[0m\u001b[37m\u001b[0m \u001b[1m1s\u001b[0m 112ms/step - accuracy: 0.8469 - loss: 0.4159 - val_accuracy: 0.9000 - val_loss: 0.3235\n",
            "Epoch 36/100\n",
            "\u001b[1m3/3\u001b[0m \u001b[32m━━━━━━━━━━━━━━━━━━━━\u001b[0m\u001b[37m\u001b[0m \u001b[1m0s\u001b[0m 71ms/step - accuracy: 0.8586 - loss: 0.4165 - val_accuracy: 0.9000 - val_loss: 0.3192\n",
            "Epoch 37/100\n",
            "\u001b[1m3/3\u001b[0m \u001b[32m━━━━━━━━━━━━━━━━━━━━\u001b[0m\u001b[37m\u001b[0m \u001b[1m0s\u001b[0m 134ms/step - accuracy: 0.8469 - loss: 0.4206 - val_accuracy: 0.9000 - val_loss: 0.3150\n",
            "Epoch 38/100\n",
            "\u001b[1m3/3\u001b[0m \u001b[32m━━━━━━━━━━━━━━━━━━━━\u001b[0m\u001b[37m\u001b[0m \u001b[1m1s\u001b[0m 127ms/step - accuracy: 0.8391 - loss: 0.4154 - val_accuracy: 0.9500 - val_loss: 0.3107\n",
            "Epoch 39/100\n",
            "\u001b[1m3/3\u001b[0m \u001b[32m━━━━━━━━━━━━━━━━━━━━\u001b[0m\u001b[37m\u001b[0m \u001b[1m0s\u001b[0m 143ms/step - accuracy: 0.8414 - loss: 0.4193 - val_accuracy: 0.9500 - val_loss: 0.3063\n",
            "Epoch 40/100\n",
            "\u001b[1m3/3\u001b[0m \u001b[32m━━━━━━━━━━━━━━━━━━━━\u001b[0m\u001b[37m\u001b[0m \u001b[1m0s\u001b[0m 62ms/step - accuracy: 0.8766 - loss: 0.3816 - val_accuracy: 0.9500 - val_loss: 0.3024\n",
            "Epoch 41/100\n",
            "\u001b[1m3/3\u001b[0m \u001b[32m━━━━━━━━━━━━━━━━━━━━\u001b[0m\u001b[37m\u001b[0m \u001b[1m0s\u001b[0m 82ms/step - accuracy: 0.8234 - loss: 0.4308 - val_accuracy: 0.9500 - val_loss: 0.2992\n",
            "Epoch 42/100\n",
            "\u001b[1m3/3\u001b[0m \u001b[32m━━━━━━━━━━━━━━━━━━━━\u001b[0m\u001b[37m\u001b[0m \u001b[1m1s\u001b[0m 79ms/step - accuracy: 0.8469 - loss: 0.3962 - val_accuracy: 0.9500 - val_loss: 0.2960\n",
            "Epoch 43/100\n",
            "\u001b[1m3/3\u001b[0m \u001b[32m━━━━━━━━━━━━━━━━━━━━\u001b[0m\u001b[37m\u001b[0m \u001b[1m0s\u001b[0m 92ms/step - accuracy: 0.8625 - loss: 0.3869 - val_accuracy: 0.9000 - val_loss: 0.2929\n",
            "Epoch 44/100\n",
            "\u001b[1m3/3\u001b[0m \u001b[32m━━━━━━━━━━━━━━━━━━━━\u001b[0m\u001b[37m\u001b[0m \u001b[1m0s\u001b[0m 38ms/step - accuracy: 0.8625 - loss: 0.3759 - val_accuracy: 0.9000 - val_loss: 0.2898\n",
            "Epoch 45/100\n",
            "\u001b[1m3/3\u001b[0m \u001b[32m━━━━━━━━━━━━━━━━━━━━\u001b[0m\u001b[37m\u001b[0m \u001b[1m0s\u001b[0m 53ms/step - accuracy: 0.8547 - loss: 0.3906 - val_accuracy: 0.9000 - val_loss: 0.2872\n",
            "Epoch 46/100\n",
            "\u001b[1m3/3\u001b[0m \u001b[32m━━━━━━━━━━━━━━━━━━━━\u001b[0m\u001b[37m\u001b[0m \u001b[1m0s\u001b[0m 73ms/step - accuracy: 0.8273 - loss: 0.4156 - val_accuracy: 0.9000 - val_loss: 0.2856\n",
            "Epoch 47/100\n",
            "\u001b[1m3/3\u001b[0m \u001b[32m━━━━━━━━━━━━━━━━━━━━\u001b[0m\u001b[37m\u001b[0m \u001b[1m0s\u001b[0m 68ms/step - accuracy: 0.8273 - loss: 0.4156 - val_accuracy: 0.9000 - val_loss: 0.2828\n",
            "Epoch 48/100\n",
            "\u001b[1m3/3\u001b[0m \u001b[32m━━━━━━━━━━━━━━━━━━━━\u001b[0m\u001b[37m\u001b[0m \u001b[1m0s\u001b[0m 66ms/step - accuracy: 0.8703 - loss: 0.3695 - val_accuracy: 0.9000 - val_loss: 0.2803\n",
            "Epoch 49/100\n",
            "\u001b[1m3/3\u001b[0m \u001b[32m━━━━━━━━━━━━━━━━━━━━\u001b[0m\u001b[37m\u001b[0m \u001b[1m0s\u001b[0m 74ms/step - accuracy: 0.8469 - loss: 0.4020 - val_accuracy: 0.9000 - val_loss: 0.2781\n",
            "Epoch 50/100\n",
            "\u001b[1m3/3\u001b[0m \u001b[32m━━━━━━━━━━━━━━━━━━━━\u001b[0m\u001b[37m\u001b[0m \u001b[1m0s\u001b[0m 78ms/step - accuracy: 0.8586 - loss: 0.3679 - val_accuracy: 0.9000 - val_loss: 0.2754\n",
            "Epoch 51/100\n",
            "\u001b[1m3/3\u001b[0m \u001b[32m━━━━━━━━━━━━━━━━━━━━\u001b[0m\u001b[37m\u001b[0m \u001b[1m0s\u001b[0m 71ms/step - accuracy: 0.8703 - loss: 0.3625 - val_accuracy: 0.9000 - val_loss: 0.2731\n",
            "Epoch 52/100\n",
            "\u001b[1m3/3\u001b[0m \u001b[32m━━━━━━━━━━━━━━━━━━━━\u001b[0m\u001b[37m\u001b[0m \u001b[1m0s\u001b[0m 76ms/step - accuracy: 0.8391 - loss: 0.4042 - val_accuracy: 0.9000 - val_loss: 0.2715\n",
            "Epoch 53/100\n",
            "\u001b[1m3/3\u001b[0m \u001b[32m━━━━━━━━━━━━━━━━━━━━\u001b[0m\u001b[37m\u001b[0m \u001b[1m0s\u001b[0m 76ms/step - accuracy: 0.8859 - loss: 0.3521 - val_accuracy: 0.9000 - val_loss: 0.2698\n",
            "Epoch 54/100\n",
            "\u001b[1m3/3\u001b[0m \u001b[32m━━━━━━━━━━━━━━━━━━━━\u001b[0m\u001b[37m\u001b[0m \u001b[1m0s\u001b[0m 81ms/step - accuracy: 0.8547 - loss: 0.3815 - val_accuracy: 0.9000 - val_loss: 0.2685\n",
            "Epoch 55/100\n",
            "\u001b[1m3/3\u001b[0m \u001b[32m━━━━━━━━━━━━━━━━━━━━\u001b[0m\u001b[37m\u001b[0m \u001b[1m0s\u001b[0m 59ms/step - accuracy: 0.8391 - loss: 0.4075 - val_accuracy: 0.9000 - val_loss: 0.2671\n",
            "Epoch 56/100\n",
            "\u001b[1m3/3\u001b[0m \u001b[32m━━━━━━━━━━━━━━━━━━━━\u001b[0m\u001b[37m\u001b[0m \u001b[1m0s\u001b[0m 38ms/step - accuracy: 0.8508 - loss: 0.3728 - val_accuracy: 0.9000 - val_loss: 0.2654\n",
            "Epoch 57/100\n",
            "\u001b[1m3/3\u001b[0m \u001b[32m━━━━━━━━━━━━━━━━━━━━\u001b[0m\u001b[37m\u001b[0m \u001b[1m0s\u001b[0m 39ms/step - accuracy: 0.8547 - loss: 0.3820 - val_accuracy: 0.8500 - val_loss: 0.2643\n",
            "Epoch 58/100\n",
            "\u001b[1m3/3\u001b[0m \u001b[32m━━━━━━━━━━━━━━━━━━━━\u001b[0m\u001b[37m\u001b[0m \u001b[1m0s\u001b[0m 44ms/step - accuracy: 0.8664 - loss: 0.3587 - val_accuracy: 0.9000 - val_loss: 0.2634\n",
            "Epoch 59/100\n",
            "\u001b[1m3/3\u001b[0m \u001b[32m━━━━━━━━━━━━━━━━━━━━\u001b[0m\u001b[37m\u001b[0m \u001b[1m0s\u001b[0m 41ms/step - accuracy: 0.8508 - loss: 0.3762 - val_accuracy: 0.9000 - val_loss: 0.2628\n",
            "Epoch 60/100\n",
            "\u001b[1m3/3\u001b[0m \u001b[32m━━━━━━━━━━━━━━━━━━━━\u001b[0m\u001b[37m\u001b[0m \u001b[1m0s\u001b[0m 61ms/step - accuracy: 0.8547 - loss: 0.3879 - val_accuracy: 0.9000 - val_loss: 0.2627\n",
            "Epoch 61/100\n",
            "\u001b[1m3/3\u001b[0m \u001b[32m━━━━━━━━━━━━━━━━━━━━\u001b[0m\u001b[37m\u001b[0m \u001b[1m0s\u001b[0m 62ms/step - accuracy: 0.8820 - loss: 0.3294 - val_accuracy: 0.9000 - val_loss: 0.2617\n",
            "Epoch 62/100\n",
            "\u001b[1m3/3\u001b[0m \u001b[32m━━━━━━━━━━━━━━━━━━━━\u001b[0m\u001b[37m\u001b[0m \u001b[1m0s\u001b[0m 40ms/step - accuracy: 0.8352 - loss: 0.4183 - val_accuracy: 0.9000 - val_loss: 0.2609\n",
            "Epoch 63/100\n",
            "\u001b[1m3/3\u001b[0m \u001b[32m━━━━━━━━━━━━━━━━━━━━\u001b[0m\u001b[37m\u001b[0m \u001b[1m0s\u001b[0m 48ms/step - accuracy: 0.8898 - loss: 0.3295 - val_accuracy: 0.8500 - val_loss: 0.2593\n",
            "Epoch 64/100\n",
            "\u001b[1m3/3\u001b[0m \u001b[32m━━━━━━━━━━━━━━━━━━━━\u001b[0m\u001b[37m\u001b[0m \u001b[1m0s\u001b[0m 41ms/step - accuracy: 0.8586 - loss: 0.3512 - val_accuracy: 0.8500 - val_loss: 0.2582\n",
            "Epoch 65/100\n",
            "\u001b[1m3/3\u001b[0m \u001b[32m━━━━━━━━━━━━━━━━━━━━\u001b[0m\u001b[37m\u001b[0m \u001b[1m0s\u001b[0m 43ms/step - accuracy: 0.8508 - loss: 0.3652 - val_accuracy: 0.9000 - val_loss: 0.2575\n",
            "Epoch 66/100\n",
            "\u001b[1m3/3\u001b[0m \u001b[32m━━━━━━━━━━━━━━━━━━━━\u001b[0m\u001b[37m\u001b[0m \u001b[1m0s\u001b[0m 59ms/step - accuracy: 0.8391 - loss: 0.3950 - val_accuracy: 0.9000 - val_loss: 0.2569\n",
            "Epoch 67/100\n",
            "\u001b[1m3/3\u001b[0m \u001b[32m━━━━━━━━━━━━━━━━━━━━\u001b[0m\u001b[37m\u001b[0m \u001b[1m0s\u001b[0m 44ms/step - accuracy: 0.8625 - loss: 0.3702 - val_accuracy: 0.9000 - val_loss: 0.2556\n",
            "Epoch 68/100\n",
            "\u001b[1m3/3\u001b[0m \u001b[32m━━━━━━━━━━━━━━━━━━━━\u001b[0m\u001b[37m\u001b[0m \u001b[1m0s\u001b[0m 48ms/step - accuracy: 0.8273 - loss: 0.4105 - val_accuracy: 0.9000 - val_loss: 0.2539\n",
            "Epoch 69/100\n",
            "\u001b[1m3/3\u001b[0m \u001b[32m━━━━━━━━━━━━━━━━━━━━\u001b[0m\u001b[37m\u001b[0m \u001b[1m0s\u001b[0m 39ms/step - accuracy: 0.8547 - loss: 0.3641 - val_accuracy: 0.9000 - val_loss: 0.2528\n",
            "Epoch 70/100\n",
            "\u001b[1m3/3\u001b[0m \u001b[32m━━━━━━━━━━━━━━━━━━━━\u001b[0m\u001b[37m\u001b[0m \u001b[1m0s\u001b[0m 59ms/step - accuracy: 0.8664 - loss: 0.3482 - val_accuracy: 0.9000 - val_loss: 0.2515\n",
            "Epoch 71/100\n",
            "\u001b[1m3/3\u001b[0m \u001b[32m━━━━━━━━━━━━━━━━━━━━\u001b[0m\u001b[37m\u001b[0m \u001b[1m0s\u001b[0m 39ms/step - accuracy: 0.8430 - loss: 0.3759 - val_accuracy: 0.9000 - val_loss: 0.2506\n",
            "Epoch 72/100\n",
            "\u001b[1m3/3\u001b[0m \u001b[32m━━━━━━━━━━━━━━━━━━━━\u001b[0m\u001b[37m\u001b[0m \u001b[1m0s\u001b[0m 38ms/step - accuracy: 0.8547 - loss: 0.3642 - val_accuracy: 0.9000 - val_loss: 0.2497\n",
            "Epoch 73/100\n",
            "\u001b[1m3/3\u001b[0m \u001b[32m━━━━━━━━━━━━━━━━━━━━\u001b[0m\u001b[37m\u001b[0m \u001b[1m0s\u001b[0m 39ms/step - accuracy: 0.8781 - loss: 0.3286 - val_accuracy: 0.9000 - val_loss: 0.2486\n",
            "Epoch 74/100\n",
            "\u001b[1m3/3\u001b[0m \u001b[32m━━━━━━━━━━━━━━━━━━━━\u001b[0m\u001b[37m\u001b[0m \u001b[1m0s\u001b[0m 39ms/step - accuracy: 0.8508 - loss: 0.3792 - val_accuracy: 0.9000 - val_loss: 0.2481\n",
            "Epoch 75/100\n",
            "\u001b[1m3/3\u001b[0m \u001b[32m━━━━━━━━━━━━━━━━━━━━\u001b[0m\u001b[37m\u001b[0m \u001b[1m0s\u001b[0m 42ms/step - accuracy: 0.8664 - loss: 0.3498 - val_accuracy: 0.9000 - val_loss: 0.2473\n",
            "Epoch 76/100\n",
            "\u001b[1m3/3\u001b[0m \u001b[32m━━━━━━━━━━━━━━━━━━━━\u001b[0m\u001b[37m\u001b[0m \u001b[1m0s\u001b[0m 39ms/step - accuracy: 0.8547 - loss: 0.3456 - val_accuracy: 0.9000 - val_loss: 0.2461\n",
            "Epoch 77/100\n",
            "\u001b[1m3/3\u001b[0m \u001b[32m━━━━━━━━━━━━━━━━━━━━\u001b[0m\u001b[37m\u001b[0m \u001b[1m0s\u001b[0m 38ms/step - accuracy: 0.8391 - loss: 0.3686 - val_accuracy: 0.9000 - val_loss: 0.2460\n",
            "Epoch 78/100\n",
            "\u001b[1m3/3\u001b[0m \u001b[32m━━━━━━━━━━━━━━━━━━━━\u001b[0m\u001b[37m\u001b[0m \u001b[1m0s\u001b[0m 39ms/step - accuracy: 0.8687 - loss: 0.3538 - val_accuracy: 0.9000 - val_loss: 0.2462\n",
            "Epoch 79/100\n",
            "\u001b[1m3/3\u001b[0m \u001b[32m━━━━━━━━━━━━━━━━━━━━\u001b[0m\u001b[37m\u001b[0m \u001b[1m0s\u001b[0m 41ms/step - accuracy: 0.8570 - loss: 0.3748 - val_accuracy: 0.9000 - val_loss: 0.2453\n",
            "Epoch 80/100\n",
            "\u001b[1m3/3\u001b[0m \u001b[32m━━━━━━━━━━━━━━━━━━━━\u001b[0m\u001b[37m\u001b[0m \u001b[1m0s\u001b[0m 41ms/step - accuracy: 0.8414 - loss: 0.3971 - val_accuracy: 0.9000 - val_loss: 0.2447\n",
            "Epoch 81/100\n",
            "\u001b[1m3/3\u001b[0m \u001b[32m━━━━━━━━━━━━━━━━━━━━\u001b[0m\u001b[37m\u001b[0m \u001b[1m0s\u001b[0m 44ms/step - accuracy: 0.8648 - loss: 0.3703 - val_accuracy: 0.9000 - val_loss: 0.2428\n",
            "Epoch 82/100\n",
            "\u001b[1m3/3\u001b[0m \u001b[32m━━━━━━━━━━━━━━━━━━━━\u001b[0m\u001b[37m\u001b[0m \u001b[1m0s\u001b[0m 61ms/step - accuracy: 0.8727 - loss: 0.3557 - val_accuracy: 0.9000 - val_loss: 0.2422\n",
            "Epoch 83/100\n",
            "\u001b[1m3/3\u001b[0m \u001b[32m━━━━━━━━━━━━━━━━━━━━\u001b[0m\u001b[37m\u001b[0m \u001b[1m0s\u001b[0m 60ms/step - accuracy: 0.8766 - loss: 0.3185 - val_accuracy: 0.9000 - val_loss: 0.2405\n",
            "Epoch 84/100\n",
            "\u001b[1m3/3\u001b[0m \u001b[32m━━━━━━━━━━━━━━━━━━━━\u001b[0m\u001b[37m\u001b[0m \u001b[1m0s\u001b[0m 59ms/step - accuracy: 0.8492 - loss: 0.3667 - val_accuracy: 0.9000 - val_loss: 0.2385\n",
            "Epoch 85/100\n",
            "\u001b[1m3/3\u001b[0m \u001b[32m━━━━━━━━━━━━━━━━━━━━\u001b[0m\u001b[37m\u001b[0m \u001b[1m0s\u001b[0m 37ms/step - accuracy: 0.8687 - loss: 0.3470 - val_accuracy: 0.9000 - val_loss: 0.2361\n",
            "Epoch 86/100\n",
            "\u001b[1m3/3\u001b[0m \u001b[32m━━━━━━━━━━━━━━━━━━━━\u001b[0m\u001b[37m\u001b[0m \u001b[1m0s\u001b[0m 36ms/step - accuracy: 0.8687 - loss: 0.3549 - val_accuracy: 0.9000 - val_loss: 0.2347\n",
            "Epoch 87/100\n",
            "\u001b[1m3/3\u001b[0m \u001b[32m━━━━━━━━━━━━━━━━━━━━\u001b[0m\u001b[37m\u001b[0m \u001b[1m0s\u001b[0m 36ms/step - accuracy: 0.8844 - loss: 0.3239 - val_accuracy: 0.9000 - val_loss: 0.2339\n",
            "Epoch 88/100\n",
            "\u001b[1m3/3\u001b[0m \u001b[32m━━━━━━━━━━━━━━━━━━━━\u001b[0m\u001b[37m\u001b[0m \u001b[1m0s\u001b[0m 39ms/step - accuracy: 0.8609 - loss: 0.3597 - val_accuracy: 0.9000 - val_loss: 0.2346\n",
            "Epoch 89/100\n",
            "\u001b[1m3/3\u001b[0m \u001b[32m━━━━━━━━━━━━━━━━━━━━\u001b[0m\u001b[37m\u001b[0m \u001b[1m0s\u001b[0m 39ms/step - accuracy: 0.8531 - loss: 0.3533 - val_accuracy: 0.9000 - val_loss: 0.2338\n",
            "Epoch 90/100\n",
            "\u001b[1m3/3\u001b[0m \u001b[32m━━━━━━━━━━━━━━━━━━━━\u001b[0m\u001b[37m\u001b[0m \u001b[1m0s\u001b[0m 43ms/step - accuracy: 0.8492 - loss: 0.3792 - val_accuracy: 0.9000 - val_loss: 0.2330\n",
            "Epoch 91/100\n",
            "\u001b[1m3/3\u001b[0m \u001b[32m━━━━━━━━━━━━━━━━━━━━\u001b[0m\u001b[37m\u001b[0m \u001b[1m0s\u001b[0m 36ms/step - accuracy: 0.8648 - loss: 0.3660 - val_accuracy: 0.9000 - val_loss: 0.2318\n",
            "Epoch 92/100\n",
            "\u001b[1m3/3\u001b[0m \u001b[32m━━━━━━━━━━━━━━━━━━━━\u001b[0m\u001b[37m\u001b[0m \u001b[1m0s\u001b[0m 37ms/step - accuracy: 0.8414 - loss: 0.3993 - val_accuracy: 0.9000 - val_loss: 0.2310\n",
            "Epoch 93/100\n",
            "\u001b[1m3/3\u001b[0m \u001b[32m━━━━━━━━━━━━━━━━━━━━\u001b[0m\u001b[37m\u001b[0m \u001b[1m0s\u001b[0m 36ms/step - accuracy: 0.8648 - loss: 0.3626 - val_accuracy: 0.9000 - val_loss: 0.2295\n",
            "Epoch 94/100\n",
            "\u001b[1m3/3\u001b[0m \u001b[32m━━━━━━━━━━━━━━━━━━━━\u001b[0m\u001b[37m\u001b[0m \u001b[1m0s\u001b[0m 36ms/step - accuracy: 0.8609 - loss: 0.3614 - val_accuracy: 0.9000 - val_loss: 0.2273\n",
            "Epoch 95/100\n",
            "\u001b[1m3/3\u001b[0m \u001b[32m━━━━━━━━━━━━━━━━━━━━\u001b[0m\u001b[37m\u001b[0m \u001b[1m0s\u001b[0m 38ms/step - accuracy: 0.8375 - loss: 0.3849 - val_accuracy: 0.9000 - val_loss: 0.2245\n",
            "Epoch 96/100\n",
            "\u001b[1m3/3\u001b[0m \u001b[32m━━━━━━━━━━━━━━━━━━━━\u001b[0m\u001b[37m\u001b[0m \u001b[1m0s\u001b[0m 38ms/step - accuracy: 0.8570 - loss: 0.3411 - val_accuracy: 0.9500 - val_loss: 0.2221\n",
            "Epoch 97/100\n",
            "\u001b[1m3/3\u001b[0m \u001b[32m━━━━━━━━━━━━━━━━━━━━\u001b[0m\u001b[37m\u001b[0m \u001b[1m0s\u001b[0m 35ms/step - accuracy: 0.8375 - loss: 0.3910 - val_accuracy: 0.9500 - val_loss: 0.2209\n",
            "Epoch 98/100\n",
            "\u001b[1m3/3\u001b[0m \u001b[32m━━━━━━━━━━━━━━━━━━━━\u001b[0m\u001b[37m\u001b[0m \u001b[1m0s\u001b[0m 35ms/step - accuracy: 0.8531 - loss: 0.3636 - val_accuracy: 0.9500 - val_loss: 0.2190\n",
            "Epoch 99/100\n",
            "\u001b[1m3/3\u001b[0m \u001b[32m━━━━━━━━━━━━━━━━━━━━\u001b[0m\u001b[37m\u001b[0m \u001b[1m0s\u001b[0m 37ms/step - accuracy: 0.8687 - loss: 0.3272 - val_accuracy: 0.9500 - val_loss: 0.2167\n",
            "Epoch 100/100\n",
            "\u001b[1m3/3\u001b[0m \u001b[32m━━━━━━━━━━━━━━━━━━━━\u001b[0m\u001b[37m\u001b[0m \u001b[1m0s\u001b[0m 34ms/step - accuracy: 0.8766 - loss: 0.3236 - val_accuracy: 0.9500 - val_loss: 0.2151\n"
          ]
        }
      ]
    },
    {
      "cell_type": "code",
      "source": [
        "model.get_weights()"
      ],
      "metadata": {
        "colab": {
          "base_uri": "https://localhost:8080/"
        },
        "id": "QkSO6UgGtfV2",
        "outputId": "0ed7e72b-f754-4964-bb8a-d3bdad88a680"
      },
      "execution_count": 15,
      "outputs": [
        {
          "output_type": "execute_result",
          "data": {
            "text/plain": [
              "[array([[ 0.9713999 ,  0.06662026,  0.529634  , -0.9286837 ,  0.24246356,\n",
              "         -0.6323127 , -1.0257266 , -0.75047445,  0.16098031, -0.98626757],\n",
              "        [ 0.5503234 , -1.1652528 , -0.5325671 ,  1.1557436 , -0.4323637 ,\n",
              "         -0.27735347, -0.77925205, -1.3794414 , -0.613923  ,  0.18993838]],\n",
              "       dtype=float32),\n",
              " array([-0.18031159, -0.09467553, -0.16539644,  0.11037404, -0.03409768,\n",
              "        -0.15847617,  0.18084238, -0.16359194,  0.1936942 , -0.16408162],\n",
              "       dtype=float32),\n",
              " array([[-0.4474823 , -0.29618692, -0.00575814,  0.45951268,  0.16659449,\n",
              "          0.11996464, -0.4888246 ,  0.33350733, -0.3660484 , -0.11077887],\n",
              "        [ 0.08238734, -0.07655496, -0.59232944, -0.01450094,  0.20369141,\n",
              "         -0.17331184, -0.12919077, -0.14630692, -0.56163263,  0.28727442],\n",
              "        [-0.3640992 ,  0.3329879 ,  0.20845383, -0.45977142, -0.08239751,\n",
              "          0.01078576, -0.22502051,  0.07082899, -0.58979326,  0.20451194],\n",
              "        [-0.13848877, -0.06334023, -0.13174216,  0.20246671,  0.21557878,\n",
              "         -0.12665218, -0.50387293, -0.03228457,  0.39697984, -0.11301974],\n",
              "        [ 0.16179408,  0.24600564, -0.44821084,  0.13916992, -0.40152264,\n",
              "         -0.76343393,  0.44690323, -0.3920398 , -0.35999802,  0.01809385],\n",
              "        [-0.07129733,  0.06990889,  0.18307285,  0.2699373 , -0.18552914,\n",
              "          0.38392133, -0.02727921,  0.30876052, -0.28263548,  0.707864  ],\n",
              "        [ 0.14724396,  0.65450954, -0.19316117, -0.38091993, -0.57930535,\n",
              "          0.41483647,  0.7537774 , -0.14973207, -0.1728053 ,  0.14180216],\n",
              "        [ 0.07135094,  0.06999195,  0.0787914 , -0.36580205,  0.2842407 ,\n",
              "          0.26122972,  0.21508941,  0.14707513, -0.14136223,  0.3202813 ],\n",
              "        [ 0.17543897,  0.03718657,  0.26499763,  0.11462092,  0.14797293,\n",
              "         -0.80524087,  0.12068465, -0.19143091,  0.45772582, -0.48504496],\n",
              "        [-0.4658809 ,  0.01820165, -0.40966144, -0.01065706,  0.39053416,\n",
              "         -0.24387084, -0.19576299,  0.39713085, -0.01785844,  0.37901568]],\n",
              "       dtype=float32),\n",
              " array([ 0.09918209,  0.124793  ,  0.13444489,  0.08463048, -0.00695042,\n",
              "         0.028589  ,  0.11673079,  0.00471006,  0.06797726, -0.13377948],\n",
              "       dtype=float32),\n",
              " array([[ 0.02242834, -0.08390547, -0.4943156 , -0.51260597, -0.01652015,\n",
              "         -0.14274386,  0.11854222,  0.39771423,  0.27873567, -0.4721466 ],\n",
              "        [ 0.35405773, -0.38841122, -0.19163968,  0.22266552, -0.2856414 ,\n",
              "         -0.66242045, -0.18813111, -0.19959448,  0.01273362,  0.10642967],\n",
              "        [-0.04014141,  0.41077906,  0.20644903,  0.6039443 , -0.27454013,\n",
              "         -0.16231276, -0.31211364,  0.9330269 , -0.17210314, -0.28312466],\n",
              "        [ 0.18384425,  0.33946532, -0.35057408, -0.21165544,  0.0684063 ,\n",
              "          0.11720631, -0.14166398,  0.6155215 , -0.38234758,  0.17573215],\n",
              "        [ 0.16290534,  0.3533724 ,  0.10473476, -0.21305335, -0.2903733 ,\n",
              "          0.48724562, -0.6231401 , -0.02750312, -0.15091467, -0.11323296],\n",
              "        [ 0.07868379,  0.58372414,  0.5048416 ,  0.07450087,  0.09359106,\n",
              "          0.14325865, -0.12945874, -0.31923756,  0.40125674, -0.03677391],\n",
              "        [ 0.52033466, -0.24039389, -0.50396734, -0.10891944, -0.40941262,\n",
              "         -0.13589203,  0.09569155, -0.3436458 , -0.09998328,  0.36483175],\n",
              "        [ 0.34713665,  0.34510168,  0.2231248 , -0.5193075 ,  0.49657857,\n",
              "         -0.28673503,  0.10138424, -0.49980435, -0.16628999, -0.7043884 ],\n",
              "        [ 0.6107598 ,  0.7316864 ,  0.6527809 , -0.32512978,  0.48300514,\n",
              "          0.2493188 , -0.07512632,  0.05768145,  0.003748  , -0.50385386],\n",
              "        [ 0.06674027,  0.45067686,  0.46218434, -0.09566727, -0.07023428,\n",
              "          0.16936852, -0.20201176, -0.38168192, -0.0338237 , -0.28516102]],\n",
              "       dtype=float32),\n",
              " array([-0.07272275,  0.05696345,  0.06036939, -0.03247584, -0.01439015,\n",
              "        -0.04702658, -0.00545115,  0.14753656,  0.09759811, -0.01215462],\n",
              "       dtype=float32),\n",
              " array([[ 0.14645869,  0.00967271, -0.29636762, -0.05831317,  0.10224331,\n",
              "          0.14367549,  0.1574156 , -0.15981056,  0.0857432 ,  0.618694  ],\n",
              "        [-0.53273475, -0.35096487,  0.579012  , -0.17410259,  0.1921274 ,\n",
              "          0.31498832,  0.0401365 , -0.03184872,  0.41097417,  0.13197458],\n",
              "        [ 0.24668789, -0.40056553,  0.45765662,  0.03903111, -0.20673385,\n",
              "          0.3833384 ,  0.63049394, -0.6472949 ,  0.45011464,  0.34901753],\n",
              "        [-0.56970525,  0.20047793, -0.96230793,  0.55714965, -0.24715208,\n",
              "          0.23351899, -0.08730211,  0.12675337, -0.87900984, -0.13338311],\n",
              "        [ 0.00217157, -0.8053843 , -0.13685998,  0.08996842,  0.480655  ,\n",
              "          0.6120207 , -0.4290579 , -0.2570563 , -0.12292061,  0.73185855],\n",
              "        [-0.26943323, -0.08315492,  0.09050519,  0.45714784,  0.01898651,\n",
              "          0.32394245,  0.43671644,  0.22113122,  0.6963962 , -0.10233773],\n",
              "        [ 0.29635945, -0.2085722 ,  0.21956709, -0.17734061,  0.43478787,\n",
              "         -0.37504658, -0.18283743, -0.12228155,  0.33679122, -0.27708083],\n",
              "        [ 0.3615836 , -0.41332948,  0.25005454, -0.5527203 , -0.2206998 ,\n",
              "         -0.26385808,  0.10415793, -0.0591968 ,  0.16332692,  0.03087244],\n",
              "        [-0.29356098, -0.19205141,  0.19480966, -0.52057683, -0.02728375,\n",
              "          0.5402118 ,  0.27560237,  0.93510646, -0.16570617, -0.22307919],\n",
              "        [ 0.7027621 ,  0.69539785,  0.02493659, -0.47362736, -0.43319854,\n",
              "         -0.27865112, -0.18784179,  0.07994124, -0.43872318,  0.35591587]],\n",
              "       dtype=float32),\n",
              " array([ 0.01315765,  0.01566128,  0.01850556,  0.0051178 , -0.00030336,\n",
              "         0.05348357, -0.00978898,  0.05238642,  0.02846889,  0.01960473],\n",
              "       dtype=float32),\n",
              " array([[ 0.3986431 ],\n",
              "        [ 0.28311136],\n",
              "        [-0.5200497 ],\n",
              "        [-0.5087597 ],\n",
              "        [-0.36806813],\n",
              "        [-0.5372522 ],\n",
              "        [-0.44445962],\n",
              "        [ 0.20922558],\n",
              "        [-0.16771755],\n",
              "        [-0.5063792 ]], dtype=float32),\n",
              " array([0.01475122], dtype=float32)]"
            ]
          },
          "metadata": {},
          "execution_count": 15
        }
      ]
    },
    {
      "cell_type": "code",
      "source": [
        "from mlxtend.plotting import plot_decision_regions\n",
        "plot_decision_regions(X,y.astype('int'), clf=model, legend=2)"
      ],
      "metadata": {
        "colab": {
          "base_uri": "https://localhost:8080/",
          "height": 465
        },
        "id": "5MW6h0WBtlZV",
        "outputId": "1a4d26b8-1d31-4e6c-dc7f-166af4c8ca17"
      },
      "execution_count": 16,
      "outputs": [
        {
          "output_type": "stream",
          "name": "stdout",
          "text": [
            "\u001b[1m9600/9600\u001b[0m \u001b[32m━━━━━━━━━━━━━━━━━━━━\u001b[0m\u001b[37m\u001b[0m \u001b[1m11s\u001b[0m 1ms/step\n"
          ]
        },
        {
          "output_type": "execute_result",
          "data": {
            "text/plain": [
              "<Axes: >"
            ]
          },
          "metadata": {},
          "execution_count": 16
        },
        {
          "output_type": "display_data",
          "data": {
            "text/plain": [
              "<Figure size 640x480 with 1 Axes>"
            ],
            "image/png": "[encoded data removed]"
          },
          "metadata": {}
        }
      ]
    },
    {
      "cell_type": "markdown",
      "source": [
        "# He Weight Initialization(Normal)"
      ],
      "metadata": {
        "id": "OM3Sa5aVuzPM"
      }
    },
    {
      "cell_type": "code",
      "source": [
        "model1 = Sequential()\n",
        "\n",
        "model1.add(Dense(10,activation='relu',input_dim=2,kernel_initializer='he_normal'))\n",
        "model1.add(Dense(10,activation='relu',kernel_initializer='he_normal'))\n",
        "model1.add(Dense(10,activation='relu',kernel_initializer='he_normal'))\n",
        "model1.add(Dense(10,activation='relu',kernel_initializer='he_normal'))\n",
        "model1.add(Dense(1,activation='sigmoid'))\n",
        "\n",
        "model1.summary()"
      ],
      "metadata": {
        "colab": {
          "base_uri": "https://localhost:8080/",
          "height": 289
        },
        "id": "CQ5JEEb-tprU",
        "outputId": "8f041232-51ee-4d52-dce2-9052f8152a3b"
      },
      "execution_count": 17,
      "outputs": [
        {
          "output_type": "display_data",
          "data": {
            "text/plain": [
              "\u001b[1mModel: \"sequential_1\"\u001b[0m\n"
            ],
            "text/html": [
              "<pre style=\"white-space:pre;overflow-x:auto;line-height:normal;font-family:Menlo,'DejaVu Sans Mono',consolas,'Courier New',monospace\"><span style=\"font-weight: bold\">Model: \"sequential_1\"</span>\n",
              "</pre>\n"
            ]
          },
          "metadata": {}
        },
        {
          "output_type": "display_data",
          "data": {
            "text/plain": [
              "┏━━━━━━━━━━━━━━━━━━━━━━━━━━━━━━━━━┳━━━━━━━━━━━━━━━━━━━━━━━━┳━━━━━━━━━━━━━━━┓\n",
              "┃\u001b[1m \u001b[0m\u001b[1mLayer (type)                   \u001b[0m\u001b[1m \u001b[0m┃\u001b[1m \u001b[0m\u001b[1mOutput Shape          \u001b[0m\u001b[1m \u001b[0m┃\u001b[1m \u001b[0m\u001b[1m      Param #\u001b[0m\u001b[1m \u001b[0m┃\n",
              "┡━━━━━━━━━━━━━━━━━━━━━━━━━━━━━━━━━╇━━━━━━━━━━━━━━━━━━━━━━━━╇━━━━━━━━━━━━━━━┩\n",
              "│ dense_5 (\u001b[38;5;33mDense\u001b[0m)                 │ (\u001b[38;5;45mNone\u001b[0m, \u001b[38;5;34m10\u001b[0m)             │            \u001b[38;5;34m30\u001b[0m │\n",
              "├─────────────────────────────────┼────────────────────────┼───────────────┤\n",
              "│ dense_6 (\u001b[38;5;33mDense\u001b[0m)                 │ (\u001b[38;5;45mNone\u001b[0m, \u001b[38;5;34m10\u001b[0m)             │           \u001b[38;5;34m110\u001b[0m │\n",
              "├─────────────────────────────────┼────────────────────────┼───────────────┤\n",
              "│ dense_7 (\u001b[38;5;33mDense\u001b[0m)                 │ (\u001b[38;5;45mNone\u001b[0m, \u001b[38;5;34m10\u001b[0m)             │           \u001b[38;5;34m110\u001b[0m │\n",
              "├─────────────────────────────────┼────────────────────────┼───────────────┤\n",
              "│ dense_8 (\u001b[38;5;33mDense\u001b[0m)                 │ (\u001b[38;5;45mNone\u001b[0m, \u001b[38;5;34m10\u001b[0m)             │           \u001b[38;5;34m110\u001b[0m │\n",
              "├─────────────────────────────────┼────────────────────────┼───────────────┤\n",
              "│ dense_9 (\u001b[38;5;33mDense\u001b[0m)                 │ (\u001b[38;5;45mNone\u001b[0m, \u001b[38;5;34m1\u001b[0m)              │            \u001b[38;5;34m11\u001b[0m │\n",
              "└─────────────────────────────────┴────────────────────────┴───────────────┘\n"
            ],
            "text/html": [
              "<pre style=\"white-space:pre;overflow-x:auto;line-height:normal;font-family:Menlo,'DejaVu Sans Mono',consolas,'Courier New',monospace\">┏━━━━━━━━━━━━━━━━━━━━━━━━━━━━━━━━━┳━━━━━━━━━━━━━━━━━━━━━━━━┳━━━━━━━━━━━━━━━┓\n",
              "┃<span style=\"font-weight: bold\"> Layer (type)                    </span>┃<span style=\"font-weight: bold\"> Output Shape           </span>┃<span style=\"font-weight: bold\">       Param # </span>┃\n",
              "┡━━━━━━━━━━━━━━━━━━━━━━━━━━━━━━━━━╇━━━━━━━━━━━━━━━━━━━━━━━━╇━━━━━━━━━━━━━━━┩\n",
              "│ dense_5 (<span style=\"color: #0087ff; text-decoration-color: #0087ff\">Dense</span>)                 │ (<span style=\"color: #00d7ff; text-decoration-color: #00d7ff\">None</span>, <span style=\"color: #00af00; text-decoration-color: #00af00\">10</span>)             │            <span style=\"color: #00af00; text-decoration-color: #00af00\">30</span> │\n",
              "├─────────────────────────────────┼────────────────────────┼───────────────┤\n",
              "│ dense_6 (<span style=\"color: #0087ff; text-decoration-color: #0087ff\">Dense</span>)                 │ (<span style=\"color: #00d7ff; text-decoration-color: #00d7ff\">None</span>, <span style=\"color: #00af00; text-decoration-color: #00af00\">10</span>)             │           <span style=\"color: #00af00; text-decoration-color: #00af00\">110</span> │\n",
              "├─────────────────────────────────┼────────────────────────┼───────────────┤\n",
              "│ dense_7 (<span style=\"color: #0087ff; text-decoration-color: #0087ff\">Dense</span>)                 │ (<span style=\"color: #00d7ff; text-decoration-color: #00d7ff\">None</span>, <span style=\"color: #00af00; text-decoration-color: #00af00\">10</span>)             │           <span style=\"color: #00af00; text-decoration-color: #00af00\">110</span> │\n",
              "├─────────────────────────────────┼────────────────────────┼───────────────┤\n",
              "│ dense_8 (<span style=\"color: #0087ff; text-decoration-color: #0087ff\">Dense</span>)                 │ (<span style=\"color: #00d7ff; text-decoration-color: #00d7ff\">None</span>, <span style=\"color: #00af00; text-decoration-color: #00af00\">10</span>)             │           <span style=\"color: #00af00; text-decoration-color: #00af00\">110</span> │\n",
              "├─────────────────────────────────┼────────────────────────┼───────────────┤\n",
              "│ dense_9 (<span style=\"color: #0087ff; text-decoration-color: #0087ff\">Dense</span>)                 │ (<span style=\"color: #00d7ff; text-decoration-color: #00d7ff\">None</span>, <span style=\"color: #00af00; text-decoration-color: #00af00\">1</span>)              │            <span style=\"color: #00af00; text-decoration-color: #00af00\">11</span> │\n",
              "└─────────────────────────────────┴────────────────────────┴───────────────┘\n",
              "</pre>\n"
            ]
          },
          "metadata": {}
        },
        {
          "output_type": "display_data",
          "data": {
            "text/plain": [
              "\u001b[1m Total params: \u001b[0m\u001b[38;5;34m371\u001b[0m (1.45 KB)\n"
            ],
            "text/html": [
              "<pre style=\"white-space:pre;overflow-x:auto;line-height:normal;font-family:Menlo,'DejaVu Sans Mono',consolas,'Courier New',monospace\"><span style=\"font-weight: bold\"> Total params: </span><span style=\"color: #00af00; text-decoration-color: #00af00\">371</span> (1.45 KB)\n",
              "</pre>\n"
            ]
          },
          "metadata": {}
        },
        {
          "output_type": "display_data",
          "data": {
            "text/plain": [
              "\u001b[1m Trainable params: \u001b[0m\u001b[38;5;34m371\u001b[0m (1.45 KB)\n"
            ],
            "text/html": [
              "<pre style=\"white-space:pre;overflow-x:auto;line-height:normal;font-family:Menlo,'DejaVu Sans Mono',consolas,'Courier New',monospace\"><span style=\"font-weight: bold\"> Trainable params: </span><span style=\"color: #00af00; text-decoration-color: #00af00\">371</span> (1.45 KB)\n",
              "</pre>\n"
            ]
          },
          "metadata": {}
        },
        {
          "output_type": "display_data",
          "data": {
            "text/plain": [
              "\u001b[1m Non-trainable params: \u001b[0m\u001b[38;5;34m0\u001b[0m (0.00 B)\n"
            ],
            "text/html": [
              "<pre style=\"white-space:pre;overflow-x:auto;line-height:normal;font-family:Menlo,'DejaVu Sans Mono',consolas,'Courier New',monospace\"><span style=\"font-weight: bold\"> Non-trainable params: </span><span style=\"color: #00af00; text-decoration-color: #00af00\">0</span> (0.00 B)\n",
              "</pre>\n"
            ]
          },
          "metadata": {}
        }
      ]
    },
    {
      "cell_type": "code",
      "source": [
        "model1.get_weights()"
      ],
      "metadata": {
        "colab": {
          "base_uri": "https://localhost:8080/"
        },
        "id": "91kI5U8tvP1f",
        "outputId": "827cf399-2fb9-4552-8aeb-4a947afe68b6"
      },
      "execution_count": 18,
      "outputs": [
        {
          "output_type": "execute_result",
          "data": {
            "text/plain": [
              "[array([[ 1.3435532 , -1.6156985 ,  1.2770965 , -1.6838081 , -1.5045116 ,\n",
              "          0.16345848, -0.2621052 ,  0.93432605, -1.4882252 , -0.95442057],\n",
              "        [ 0.17333801,  0.88466066, -0.39683586,  0.23304506,  0.8607258 ,\n",
              "         -1.3462352 ,  0.9143473 ,  1.1234372 ,  0.9856961 , -0.11039921]],\n",
              "       dtype=float32),\n",
              " array([0., 0., 0., 0., 0., 0., 0., 0., 0., 0.], dtype=float32),\n",
              " array([[-0.28855914,  0.8967488 , -0.409617  ,  0.70459366,  0.32836106,\n",
              "          0.37096152, -0.09132865, -0.51924205,  0.86165524,  0.30811372],\n",
              "        [-0.36383882, -0.81196445,  0.22809023, -0.82411605, -0.41961578,\n",
              "         -0.17727302, -0.31209764, -0.14100337,  0.875142  , -0.12017262],\n",
              "        [ 0.29292187,  0.55165654,  0.05171958, -0.5927142 , -0.03773964,\n",
              "         -0.881518  ,  0.16139816, -0.73633415,  0.69626296,  0.22209503],\n",
              "        [-0.25107753,  0.04038729,  0.2634798 , -0.58168685,  0.10526559,\n",
              "          0.20384535, -0.43866062, -0.12203185,  0.3462036 ,  0.413635  ],\n",
              "        [-0.20540729,  0.15051976, -0.03525667,  0.09007762, -0.3069418 ,\n",
              "          0.05512065,  0.6186058 , -0.13142224, -0.2902681 , -0.0758745 ],\n",
              "        [ 0.46025744,  0.45543438,  0.1798426 , -0.18972747, -0.14967974,\n",
              "          0.18099792,  0.9768266 , -0.52225727,  0.36597812,  0.95231867],\n",
              "        [-0.27973998,  0.28214806,  0.20741723,  0.28098938, -0.04765977,\n",
              "         -0.6593608 ,  0.24823871,  0.28641334,  0.16895464, -0.23119962],\n",
              "        [-0.81489146,  0.2952776 ,  0.4446833 , -0.24656858,  0.29410693,\n",
              "          0.12061748, -0.6258301 ,  0.05433568,  0.06024789, -0.4989067 ],\n",
              "        [ 0.52819693,  0.3217154 ,  0.4730399 ,  0.44526938, -0.5140988 ,\n",
              "          0.09572332, -0.99215186,  0.24435191, -0.05063878,  0.07919998],\n",
              "        [-0.14890018, -0.2932824 , -0.6238867 ,  0.02048585, -0.03431293,\n",
              "          0.5496051 , -0.49006835,  0.38990536,  0.60554653, -0.60913587]],\n",
              "       dtype=float32),\n",
              " array([0., 0., 0., 0., 0., 0., 0., 0., 0., 0.], dtype=float32),\n",
              " array([[-0.4713047 , -0.08663256, -0.87055624, -0.7670188 , -0.28555247,\n",
              "         -0.9828354 ,  0.7352768 , -0.08804427, -0.96080375,  0.2758376 ],\n",
              "        [-0.4718346 , -0.10911653, -0.8075815 ,  0.21541438, -0.82217944,\n",
              "          0.3251272 , -0.42288172,  0.16376466, -0.23659459, -0.6908854 ],\n",
              "        [ 0.38092083, -0.3834324 ,  0.8648225 , -0.00570756, -0.34008548,\n",
              "          0.03762016,  0.34398043, -0.14840066,  0.56328934, -0.7478906 ],\n",
              "        [ 0.6196598 ,  0.00623585, -0.8327791 ,  0.33330435, -0.04914122,\n",
              "         -0.18478495, -0.6451231 ,  0.05947003, -0.6293923 , -0.38827506],\n",
              "        [-0.06302829, -0.239185  ,  0.17487156, -0.25734136, -0.08764721,\n",
              "          0.7045394 ,  0.23818743,  0.16510451,  0.05152585, -0.53275794],\n",
              "        [-0.23835142, -0.71740603,  0.19864802, -0.04387608, -0.02036505,\n",
              "         -0.745788  , -0.1441721 , -0.240142  ,  0.56047887, -0.2848534 ],\n",
              "        [-0.3225744 ,  0.08299984, -0.01474592, -0.10057013, -0.6228982 ,\n",
              "          0.54636955,  0.46156058,  0.40961328,  0.6126715 , -0.4313532 ],\n",
              "        [ 0.0729381 , -0.0857175 ,  0.17275277, -0.4344493 ,  0.20486104,\n",
              "          0.12661009,  0.5092345 ,  0.909452  ,  0.84941375,  0.1521193 ],\n",
              "        [-0.15325193,  0.0913868 ,  0.5067873 , -0.3098703 , -0.4901169 ,\n",
              "         -0.03520247, -0.5237081 , -0.16145083, -0.0587071 , -0.16878909],\n",
              "        [ 0.12668498, -0.00458636, -0.10936688, -0.00991544, -0.2884    ,\n",
              "         -0.36931482,  0.11974419, -0.21994552, -0.5134158 , -0.38051477]],\n",
              "       dtype=float32),\n",
              " array([0., 0., 0., 0., 0., 0., 0., 0., 0., 0.], dtype=float32),\n",
              " array([[-0.4913284 ,  0.5127244 ,  0.20672907,  0.30244687,  0.07375993,\n",
              "          0.03367004,  0.36657366, -0.41116425,  0.74270076, -0.92316926],\n",
              "        [ 0.3327496 ,  0.5125985 , -0.26454127, -0.13373356,  0.14850296,\n",
              "          0.37654114, -0.09662049,  0.26643363,  0.5463715 ,  0.30349192],\n",
              "        [ 0.34961393, -0.73901016, -0.268753  ,  0.5877897 ,  0.2630481 ,\n",
              "         -0.1169833 , -0.12598184,  0.07686491,  0.33421603,  0.28978267],\n",
              "        [-0.03463578, -0.36521852,  0.56957585,  0.6980831 ,  0.8353568 ,\n",
              "         -0.2258688 ,  1.013502  , -0.99732137,  0.345126  , -0.36302993],\n",
              "        [-0.9827454 ,  0.5922781 ,  0.3139346 ,  0.01480983,  0.25512052,\n",
              "          0.29298905,  0.53995395,  0.46543604, -0.02855627, -0.50445986],\n",
              "        [ 0.5930182 ,  0.7989224 , -0.7122194 , -0.10618159,  0.31796208,\n",
              "          0.06518321, -0.10770474, -0.7636059 , -0.32810894, -0.0661414 ],\n",
              "        [-0.2610571 ,  0.4482229 , -0.5884948 , -0.34718296,  0.6546139 ,\n",
              "          0.07757837, -0.2791447 , -0.02217101, -0.90148056,  0.31516394],\n",
              "        [ 0.09529025,  0.03755865,  0.32048365,  0.3956346 ,  0.22473964,\n",
              "          0.6319166 ,  0.34163514,  0.5086514 ,  0.37399477,  0.5089454 ],\n",
              "        [ 0.04783209,  0.35124716, -0.25095642,  0.71345526,  0.24230519,\n",
              "         -0.58282924,  0.44516045, -0.398867  ,  0.39775065, -0.613981  ],\n",
              "        [-0.8033287 , -0.14267206,  0.10712903,  0.21712683, -0.8254719 ,\n",
              "          0.06610367, -0.01025501,  0.4874601 , -0.7869677 , -0.14245783]],\n",
              "       dtype=float32),\n",
              " array([0., 0., 0., 0., 0., 0., 0., 0., 0., 0.], dtype=float32),\n",
              " array([[-0.48626646],\n",
              "        [ 0.68849355],\n",
              "        [ 0.4108097 ],\n",
              "        [-0.08261818],\n",
              "        [-0.33250552],\n",
              "        [-0.25532043],\n",
              "        [-0.53803843],\n",
              "        [ 0.33714467],\n",
              "        [-0.4458621 ],\n",
              "        [ 0.2408458 ]], dtype=float32),\n",
              " array([0.], dtype=float32)]"
            ]
          },
          "metadata": {},
          "execution_count": 18
        }
      ]
    },
    {
      "cell_type": "code",
      "source": [
        "initial_weights = model1.get_weights()"
      ],
      "metadata": {
        "id": "HJBRflsqvU2l"
      },
      "execution_count": 19,
      "outputs": []
    },
    {
      "cell_type": "code",
      "source": [
        "initial_weights[0] = np.random.randn(2,10)*np.sqrt(1/2)\n",
        "initial_weights[1] = np.zeros(model1.get_weights()[1].shape)\n",
        "initial_weights[2] = np.random.randn(10,10)*np.sqrt(1/10)\n",
        "initial_weights[3] = np.zeros(model1.get_weights()[3].shape)\n",
        "initial_weights[4] = np.random.randn(10,10)*np.sqrt(1/10)\n",
        "initial_weights[5] = np.zeros(model1.get_weights()[5].shape)\n",
        "initial_weights[6] = np.random.randn(10,10)*np.sqrt(1/10)\n",
        "initial_weights[7] = np.zeros(model1.get_weights()[7].shape)\n",
        "initial_weights[8] = np.random.randn(10,1)*np.sqrt(1/10)\n",
        "initial_weights[9] = np.zeros(model1.get_weights()[9].shape)"
      ],
      "metadata": {
        "id": "gtPRq7rqvbhy"
      },
      "execution_count": 20,
      "outputs": []
    },
    {
      "cell_type": "code",
      "source": [
        "model1.set_weights(initial_weights)"
      ],
      "metadata": {
        "id": "VeH0j7BovoXn"
      },
      "execution_count": 21,
      "outputs": []
    },
    {
      "cell_type": "code",
      "source": [
        "model1.get_weights()"
      ],
      "metadata": {
        "colab": {
          "base_uri": "https://localhost:8080/"
        },
        "id": "5dYOqpYOvsQV",
        "outputId": "5e5328bf-6083-4e2c-86e9-152c2a03564d"
      },
      "execution_count": 22,
      "outputs": [
        {
          "output_type": "execute_result",
          "data": {
            "text/plain": [
              "[array([[-0.21797301, -0.9064532 , -0.5338597 , -0.6717935 , -0.36248744,\n",
              "         -0.4680308 , -1.3683345 ,  0.35988536, -0.34565324, -1.6199119 ],\n",
              "        [ 0.01047042, -0.02257982, -0.32238272, -0.1363965 ,  0.28519207,\n",
              "          1.3254135 ,  0.27473283,  0.2850638 ,  1.4415739 , -0.3665139 ]],\n",
              "       dtype=float32),\n",
              " array([0., 0., 0., 0., 0., 0., 0., 0., 0., 0.], dtype=float32),\n",
              " array([[-0.2682041 ,  0.35813314, -0.01264354, -0.23706321,  0.33896193,\n",
              "          0.14963305,  0.18507093,  0.28595456,  0.02809862,  0.3534274 ],\n",
              "        [ 0.24583694, -0.01490293,  0.5908944 , -0.00181752,  0.42201194,\n",
              "          0.5907382 ,  0.32694867, -0.34518173,  0.1966665 ,  0.26593545],\n",
              "        [ 0.39547795, -0.23575678,  0.2914075 ,  0.40938097,  0.00735158,\n",
              "          0.13518754, -0.16257231, -0.14391756, -0.1583933 ,  0.07117284],\n",
              "        [-0.08088215, -0.3413838 , -0.238894  , -0.11607411,  0.0742045 ,\n",
              "          0.08379359, -0.4338891 ,  0.16440195, -0.04957229, -0.18447925],\n",
              "        [ 0.13577186, -0.2573322 ,  0.60006297,  0.06238673, -0.35680303,\n",
              "         -0.55699384,  0.1611082 ,  0.07595561,  0.06425904,  0.02358259],\n",
              "        [ 0.10617122, -0.3600543 ,  0.04796262, -0.03095974,  0.06308387,\n",
              "          0.05359751,  0.07119185,  0.18743855,  0.1077221 , -0.0947981 ],\n",
              "        [-0.15575112,  0.49468207,  0.16436303, -0.01781463,  0.32740274,\n",
              "         -0.24602222, -0.14464971,  0.23259307,  0.13165718, -0.11241528],\n",
              "        [ 0.07691146, -0.13121127,  0.62532014,  0.29420152, -0.08969045,\n",
              "          0.15255137,  0.14933069,  0.0808005 , -0.15163207, -0.16310832],\n",
              "        [ 0.22514279, -0.09229546, -0.09085608,  0.07486907,  0.35714677,\n",
              "          0.26179478,  0.33319068,  0.11930665, -0.5411266 , -0.35433975],\n",
              "        [ 0.4649802 , -0.12661985,  0.18945123,  0.29249418, -0.38702238,\n",
              "          0.46501297, -0.57017124,  0.25264332,  0.04030134, -0.14950892]],\n",
              "       dtype=float32),\n",
              " array([0., 0., 0., 0., 0., 0., 0., 0., 0., 0.], dtype=float32),\n",
              " array([[ 0.24098608,  0.16913937,  0.02105116, -0.13287911,  0.41239694,\n",
              "          0.25455412, -0.33445963,  0.13782546,  0.0133284 ,  0.1873054 ],\n",
              "        [-0.53056204,  0.22380415, -0.09451292, -0.04527569,  0.08561375,\n",
              "         -0.24930173, -0.26533827, -0.23883606,  0.29147887, -0.1889639 ],\n",
              "        [ 0.2431442 , -0.08481593, -0.31394514, -0.09154134,  0.09818275,\n",
              "         -0.42546976, -0.66681105, -0.04278033,  0.34225282, -0.17749447],\n",
              "        [ 0.10697939,  0.14984256,  0.3584271 ,  0.20128918,  0.10353473,\n",
              "         -0.09775139, -0.2189473 , -0.2913405 , -0.56843764, -0.13672116],\n",
              "        [-0.29610315,  0.0883616 ,  0.03267725,  0.4556295 ,  0.58320266,\n",
              "         -0.09387634, -0.15144634,  0.3889461 , -0.10557808, -0.24548544],\n",
              "        [ 0.50297135, -0.31585696, -0.38923842, -0.09824228, -0.00359686,\n",
              "         -0.2514202 , -0.37638   , -0.36927393, -0.52202475,  0.16355123],\n",
              "        [ 0.24992216,  0.1600998 ,  0.00309509, -0.32026136, -0.01808559,\n",
              "         -0.2051398 , -0.1382478 ,  0.24556263, -0.05501681,  0.13376443],\n",
              "        [ 0.40887797, -0.00216601, -0.17804956, -0.12120409, -0.18135011,\n",
              "          0.16263472,  0.6294332 ,  0.1940541 ,  0.28507182, -0.29675213],\n",
              "        [ 0.16958736, -0.16622274,  0.02035513, -0.16362424, -0.3427972 ,\n",
              "          0.12347248,  0.5458197 ,  0.57386404,  0.40494743,  0.34982607],\n",
              "        [-0.57871544,  0.37916318,  0.53128946,  0.18630704, -0.4283373 ,\n",
              "         -0.22368267,  0.04059998, -0.02253213, -0.12083634, -0.3690617 ]],\n",
              "       dtype=float32),\n",
              " array([0., 0., 0., 0., 0., 0., 0., 0., 0., 0.], dtype=float32),\n",
              " array([[-0.13065079, -0.24669243, -0.5160308 ,  0.7974115 ,  0.48942274,\n",
              "         -0.07677522, -0.03713825, -0.22078982,  0.03889444, -0.06715097],\n",
              "        [-0.44942507, -0.22555386, -0.0533932 ,  0.1584457 ,  0.0459214 ,\n",
              "          0.37971303,  0.01023119,  0.5236065 , -0.03800415,  0.01740425],\n",
              "        [-0.64820933,  0.03644215, -0.06050096, -0.3773344 ,  0.2590339 ,\n",
              "          0.11098953, -0.4059652 , -0.07891373, -0.38553807, -0.25298414],\n",
              "        [ 0.19864707,  0.61258453, -0.33745688,  0.22327107, -0.11046706,\n",
              "         -0.12668775,  0.00604616, -0.09110297, -0.19526683, -0.50357443],\n",
              "        [ 0.22386983,  0.54991937,  0.01816556,  0.1613303 , -0.36335495,\n",
              "          0.66448367, -0.5278864 ,  0.7656615 ,  0.09316956, -0.18871574],\n",
              "        [ 0.23277369,  0.06791657, -0.13025826, -0.7664412 ,  0.18697104,\n",
              "         -0.0536376 , -0.02511437, -0.06718358,  0.09061056, -0.24549401],\n",
              "        [ 0.14250742, -0.30527556, -0.55141765, -0.0737109 ,  0.52949196,\n",
              "         -0.16438174,  0.08585611, -0.18970565, -0.11252237,  0.33081323],\n",
              "        [-0.24303485,  0.01869203,  0.0366079 ,  0.2051732 ,  0.02027727,\n",
              "         -0.20753075, -0.40258443,  0.11475999,  0.20836328, -0.5819142 ],\n",
              "        [ 0.2831046 ,  0.10162243, -0.39552975,  0.03241106,  0.7113194 ,\n",
              "         -0.12971732,  0.04851171,  0.08326995, -0.347796  ,  0.46967092],\n",
              "        [ 0.18301225, -0.22035263,  0.34216815,  0.13904338, -0.11228468,\n",
              "          0.3204869 ,  0.20737723,  0.30883637, -0.15081361,  0.4411178 ]],\n",
              "       dtype=float32),\n",
              " array([0., 0., 0., 0., 0., 0., 0., 0., 0., 0.], dtype=float32),\n",
              " array([[ 0.20338582],\n",
              "        [ 0.20212395],\n",
              "        [ 0.27153397],\n",
              "        [ 0.20022039],\n",
              "        [ 0.20955499],\n",
              "        [ 0.17226878],\n",
              "        [ 0.4813221 ],\n",
              "        [-0.15990767],\n",
              "        [ 0.01537641],\n",
              "        [-0.2176211 ]], dtype=float32),\n",
              " array([0.], dtype=float32)]"
            ]
          },
          "metadata": {},
          "execution_count": 22
        }
      ]
    },
    {
      "cell_type": "code",
      "source": [
        "model1.compile(loss='binary_crossentropy',optimizer='adam',metrics=['accuracy'])"
      ],
      "metadata": {
        "id": "NUOC6Eqevwn8"
      },
      "execution_count": 23,
      "outputs": []
    },
    {
      "cell_type": "code",
      "source": [
        "history = model1.fit(X,y,epochs=100,validation_split=0.2)"
      ],
      "metadata": {
        "colab": {
          "base_uri": "https://localhost:8080/"
        },
        "id": "pym7wH0Rv1uk",
        "outputId": "88a24643-3279-40a6-ddf5-338037513900"
      },
      "execution_count": 24,
      "outputs": [
        {
          "output_type": "stream",
          "name": "stdout",
          "text": [
            "Epoch 1/100\n",
            "\u001b[1m3/3\u001b[0m \u001b[32m━━━━━━━━━━━━━━━━━━━━\u001b[0m\u001b[37m\u001b[0m \u001b[1m2s\u001b[0m 131ms/step - accuracy: 0.5156 - loss: 0.7242 - val_accuracy: 0.5000 - val_loss: 0.7500\n",
            "Epoch 2/100\n",
            "\u001b[1m3/3\u001b[0m \u001b[32m━━━━━━━━━━━━━━━━━━━━\u001b[0m\u001b[37m\u001b[0m \u001b[1m0s\u001b[0m 33ms/step - accuracy: 0.4961 - loss: 0.7231 - val_accuracy: 0.5000 - val_loss: 0.7441\n",
            "Epoch 3/100\n",
            "\u001b[1m3/3\u001b[0m \u001b[32m━━━━━━━━━━━━━━━━━━━━\u001b[0m\u001b[37m\u001b[0m \u001b[1m0s\u001b[0m 38ms/step - accuracy: 0.4922 - loss: 0.7165 - val_accuracy: 0.5000 - val_loss: 0.7385\n",
            "Epoch 4/100\n",
            "\u001b[1m3/3\u001b[0m \u001b[32m━━━━━━━━━━━━━━━━━━━━\u001b[0m\u001b[37m\u001b[0m \u001b[1m0s\u001b[0m 37ms/step - accuracy: 0.5078 - loss: 0.7138 - val_accuracy: 0.5000 - val_loss: 0.7331\n",
            "Epoch 5/100\n",
            "\u001b[1m3/3\u001b[0m \u001b[32m━━━━━━━━━━━━━━━━━━━━\u001b[0m\u001b[37m\u001b[0m \u001b[1m0s\u001b[0m 37ms/step - accuracy: 0.4875 - loss: 0.7097 - val_accuracy: 0.5000 - val_loss: 0.7279\n",
            "Epoch 6/100\n",
            "\u001b[1m3/3\u001b[0m \u001b[32m━━━━━━━━━━━━━━━━━━━━\u001b[0m\u001b[37m\u001b[0m \u001b[1m0s\u001b[0m 36ms/step - accuracy: 0.4875 - loss: 0.7072 - val_accuracy: 0.4500 - val_loss: 0.7231\n",
            "Epoch 7/100\n",
            "\u001b[1m3/3\u001b[0m \u001b[32m━━━━━━━━━━━━━━━━━━━━\u001b[0m\u001b[37m\u001b[0m \u001b[1m0s\u001b[0m 36ms/step - accuracy: 0.4719 - loss: 0.7064 - val_accuracy: 0.4000 - val_loss: 0.7184\n",
            "Epoch 8/100\n",
            "\u001b[1m3/3\u001b[0m \u001b[32m━━━━━━━━━━━━━━━━━━━━\u001b[0m\u001b[37m\u001b[0m \u001b[1m0s\u001b[0m 36ms/step - accuracy: 0.4734 - loss: 0.7051 - val_accuracy: 0.3500 - val_loss: 0.7140\n",
            "Epoch 9/100\n",
            "\u001b[1m3/3\u001b[0m \u001b[32m━━━━━━━━━━━━━━━━━━━━\u001b[0m\u001b[37m\u001b[0m \u001b[1m0s\u001b[0m 57ms/step - accuracy: 0.4609 - loss: 0.7008 - val_accuracy: 0.4000 - val_loss: 0.7099\n",
            "Epoch 10/100\n",
            "\u001b[1m3/3\u001b[0m \u001b[32m━━━━━━━━━━━━━━━━━━━━\u001b[0m\u001b[37m\u001b[0m \u001b[1m0s\u001b[0m 33ms/step - accuracy: 0.4203 - loss: 0.6988 - val_accuracy: 0.4500 - val_loss: 0.7060\n",
            "Epoch 11/100\n",
            "\u001b[1m3/3\u001b[0m \u001b[32m━━━━━━━━━━━━━━━━━━━━\u001b[0m\u001b[37m\u001b[0m \u001b[1m0s\u001b[0m 34ms/step - accuracy: 0.5273 - loss: 0.6952 - val_accuracy: 0.4500 - val_loss: 0.7022\n",
            "Epoch 12/100\n",
            "\u001b[1m3/3\u001b[0m \u001b[32m━━━━━━━━━━━━━━━━━━━━\u001b[0m\u001b[37m\u001b[0m \u001b[1m0s\u001b[0m 36ms/step - accuracy: 0.5039 - loss: 0.6941 - val_accuracy: 0.4500 - val_loss: 0.6984\n",
            "Epoch 13/100\n",
            "\u001b[1m3/3\u001b[0m \u001b[32m━━━━━━━━━━━━━━━━━━━━\u001b[0m\u001b[37m\u001b[0m \u001b[1m0s\u001b[0m 33ms/step - accuracy: 0.5344 - loss: 0.6909 - val_accuracy: 0.5000 - val_loss: 0.6948\n",
            "Epoch 14/100\n",
            "\u001b[1m3/3\u001b[0m \u001b[32m━━━━━━━━━━━━━━━━━━━━\u001b[0m\u001b[37m\u001b[0m \u001b[1m0s\u001b[0m 36ms/step - accuracy: 0.6445 - loss: 0.6883 - val_accuracy: 0.6000 - val_loss: 0.6911\n",
            "Epoch 15/100\n",
            "\u001b[1m3/3\u001b[0m \u001b[32m━━━━━━━━━━━━━━━━━━━━\u001b[0m\u001b[37m\u001b[0m \u001b[1m0s\u001b[0m 56ms/step - accuracy: 0.6578 - loss: 0.6880 - val_accuracy: 0.6500 - val_loss: 0.6873\n",
            "Epoch 16/100\n",
            "\u001b[1m3/3\u001b[0m \u001b[32m━━━━━━━━━━━━━━━━━━━━\u001b[0m\u001b[37m\u001b[0m \u001b[1m0s\u001b[0m 37ms/step - accuracy: 0.6547 - loss: 0.6854 - val_accuracy: 0.7000 - val_loss: 0.6833\n",
            "Epoch 17/100\n",
            "\u001b[1m3/3\u001b[0m \u001b[32m━━━━━━━━━━━━━━━━━━━━\u001b[0m\u001b[37m\u001b[0m \u001b[1m0s\u001b[0m 34ms/step - accuracy: 0.7555 - loss: 0.6808 - val_accuracy: 0.7500 - val_loss: 0.6793\n",
            "Epoch 18/100\n",
            "\u001b[1m3/3\u001b[0m \u001b[32m━━━━━━━━━━━━━━━━━━━━\u001b[0m\u001b[37m\u001b[0m \u001b[1m0s\u001b[0m 41ms/step - accuracy: 0.7703 - loss: 0.6784 - val_accuracy: 0.7500 - val_loss: 0.6752\n",
            "Epoch 19/100\n",
            "\u001b[1m3/3\u001b[0m \u001b[32m━━━━━━━━━━━━━━━━━━━━\u001b[0m\u001b[37m\u001b[0m \u001b[1m0s\u001b[0m 33ms/step - accuracy: 0.7492 - loss: 0.6781 - val_accuracy: 0.7500 - val_loss: 0.6709\n",
            "Epoch 20/100\n",
            "\u001b[1m3/3\u001b[0m \u001b[32m━━━━━━━━━━━━━━━━━━━━\u001b[0m\u001b[37m\u001b[0m \u001b[1m0s\u001b[0m 35ms/step - accuracy: 0.8383 - loss: 0.6733 - val_accuracy: 0.8000 - val_loss: 0.6664\n",
            "Epoch 21/100\n",
            "\u001b[1m3/3\u001b[0m \u001b[32m━━━━━━━━━━━━━━━━━━━━\u001b[0m\u001b[37m\u001b[0m \u001b[1m0s\u001b[0m 35ms/step - accuracy: 0.8148 - loss: 0.6709 - val_accuracy: 0.9000 - val_loss: 0.6618\n",
            "Epoch 22/100\n",
            "\u001b[1m3/3\u001b[0m \u001b[32m━━━━━━━━━━━━━━━━━━━━\u001b[0m\u001b[37m\u001b[0m \u001b[1m0s\u001b[0m 37ms/step - accuracy: 0.8305 - loss: 0.6669 - val_accuracy: 0.9000 - val_loss: 0.6570\n",
            "Epoch 23/100\n",
            "\u001b[1m3/3\u001b[0m \u001b[32m━━━━━━━━━━━━━━━━━━━━\u001b[0m\u001b[37m\u001b[0m \u001b[1m0s\u001b[0m 38ms/step - accuracy: 0.8250 - loss: 0.6666 - val_accuracy: 0.9000 - val_loss: 0.6519\n",
            "Epoch 24/100\n",
            "\u001b[1m3/3\u001b[0m \u001b[32m━━━━━━━━━━━━━━━━━━━━\u001b[0m\u001b[37m\u001b[0m \u001b[1m0s\u001b[0m 38ms/step - accuracy: 0.8523 - loss: 0.6586 - val_accuracy: 0.9000 - val_loss: 0.6464\n",
            "Epoch 25/100\n",
            "\u001b[1m3/3\u001b[0m \u001b[32m━━━━━━━━━━━━━━━━━━━━\u001b[0m\u001b[37m\u001b[0m \u001b[1m0s\u001b[0m 35ms/step - accuracy: 0.8133 - loss: 0.6597 - val_accuracy: 0.9000 - val_loss: 0.6407\n",
            "Epoch 26/100\n",
            "\u001b[1m3/3\u001b[0m \u001b[32m━━━━━━━━━━━━━━━━━━━━\u001b[0m\u001b[37m\u001b[0m \u001b[1m0s\u001b[0m 34ms/step - accuracy: 0.8523 - loss: 0.6546 - val_accuracy: 0.9000 - val_loss: 0.6346\n",
            "Epoch 27/100\n",
            "\u001b[1m3/3\u001b[0m \u001b[32m━━━━━━━━━━━━━━━━━━━━\u001b[0m\u001b[37m\u001b[0m \u001b[1m0s\u001b[0m 41ms/step - accuracy: 0.8508 - loss: 0.6492 - val_accuracy: 0.9000 - val_loss: 0.6282\n",
            "Epoch 28/100\n",
            "\u001b[1m3/3\u001b[0m \u001b[32m━━━━━━━━━━━━━━━━━━━━\u001b[0m\u001b[37m\u001b[0m \u001b[1m0s\u001b[0m 34ms/step - accuracy: 0.8547 - loss: 0.6420 - val_accuracy: 0.9000 - val_loss: 0.6215\n",
            "Epoch 29/100\n",
            "\u001b[1m3/3\u001b[0m \u001b[32m━━━━━━━━━━━━━━━━━━━━\u001b[0m\u001b[37m\u001b[0m \u001b[1m0s\u001b[0m 35ms/step - accuracy: 0.8664 - loss: 0.6370 - val_accuracy: 0.9000 - val_loss: 0.6145\n",
            "Epoch 30/100\n",
            "\u001b[1m3/3\u001b[0m \u001b[32m━━━━━━━━━━━━━━━━━━━━\u001b[0m\u001b[37m\u001b[0m \u001b[1m0s\u001b[0m 35ms/step - accuracy: 0.8547 - loss: 0.6370 - val_accuracy: 0.9000 - val_loss: 0.6074\n",
            "Epoch 31/100\n",
            "\u001b[1m3/3\u001b[0m \u001b[32m━━━━━━━━━━━━━━━━━━━━\u001b[0m\u001b[37m\u001b[0m \u001b[1m0s\u001b[0m 35ms/step - accuracy: 0.8508 - loss: 0.6315 - val_accuracy: 0.9000 - val_loss: 0.5997\n",
            "Epoch 32/100\n",
            "\u001b[1m3/3\u001b[0m \u001b[32m━━━━━━━━━━━━━━━━━━━━\u001b[0m\u001b[37m\u001b[0m \u001b[1m0s\u001b[0m 38ms/step - accuracy: 0.8609 - loss: 0.6243 - val_accuracy: 0.9000 - val_loss: 0.5919\n",
            "Epoch 33/100\n",
            "\u001b[1m3/3\u001b[0m \u001b[32m━━━━━━━━━━━━━━━━━━━━\u001b[0m\u001b[37m\u001b[0m \u001b[1m0s\u001b[0m 57ms/step - accuracy: 0.8805 - loss: 0.6146 - val_accuracy: 0.9000 - val_loss: 0.5838\n",
            "Epoch 34/100\n",
            "\u001b[1m3/3\u001b[0m \u001b[32m━━━━━━━━━━━━━━━━━━━━\u001b[0m\u001b[37m\u001b[0m \u001b[1m0s\u001b[0m 36ms/step - accuracy: 0.8609 - loss: 0.6141 - val_accuracy: 0.9000 - val_loss: 0.5754\n",
            "Epoch 35/100\n",
            "\u001b[1m3/3\u001b[0m \u001b[32m━━━━━━━━━━━━━━━━━━━━\u001b[0m\u001b[37m\u001b[0m \u001b[1m0s\u001b[0m 42ms/step - accuracy: 0.8609 - loss: 0.6096 - val_accuracy: 0.9000 - val_loss: 0.5669\n",
            "Epoch 36/100\n",
            "\u001b[1m3/3\u001b[0m \u001b[32m━━━━━━━━━━━━━━━━━━━━\u001b[0m\u001b[37m\u001b[0m \u001b[1m0s\u001b[0m 36ms/step - accuracy: 0.8570 - loss: 0.6063 - val_accuracy: 0.9000 - val_loss: 0.5581\n",
            "Epoch 37/100\n",
            "\u001b[1m3/3\u001b[0m \u001b[32m━━━━━━━━━━━━━━━━━━━━\u001b[0m\u001b[37m\u001b[0m \u001b[1m0s\u001b[0m 36ms/step - accuracy: 0.8648 - loss: 0.6038 - val_accuracy: 0.9000 - val_loss: 0.5489\n",
            "Epoch 38/100\n",
            "\u001b[1m3/3\u001b[0m \u001b[32m━━━━━━━━━━━━━━━━━━━━\u001b[0m\u001b[37m\u001b[0m \u001b[1m0s\u001b[0m 39ms/step - accuracy: 0.8648 - loss: 0.5959 - val_accuracy: 0.9000 - val_loss: 0.5395\n",
            "Epoch 39/100\n",
            "\u001b[1m3/3\u001b[0m \u001b[32m━━━━━━━━━━━━━━━━━━━━\u001b[0m\u001b[37m\u001b[0m \u001b[1m0s\u001b[0m 52ms/step - accuracy: 0.8609 - loss: 0.5827 - val_accuracy: 0.9000 - val_loss: 0.5298\n",
            "Epoch 40/100\n",
            "\u001b[1m3/3\u001b[0m \u001b[32m━━━━━━━━━━━━━━━━━━━━\u001b[0m\u001b[37m\u001b[0m \u001b[1m0s\u001b[0m 71ms/step - accuracy: 0.8766 - loss: 0.5794 - val_accuracy: 0.9000 - val_loss: 0.5203\n",
            "Epoch 41/100\n",
            "\u001b[1m3/3\u001b[0m \u001b[32m━━━━━━━━━━━━━━━━━━━━\u001b[0m\u001b[37m\u001b[0m \u001b[1m0s\u001b[0m 72ms/step - accuracy: 0.8508 - loss: 0.5729 - val_accuracy: 0.9000 - val_loss: 0.5107\n",
            "Epoch 42/100\n",
            "\u001b[1m3/3\u001b[0m \u001b[32m━━━━━━━━━━━━━━━━━━━━\u001b[0m\u001b[37m\u001b[0m \u001b[1m0s\u001b[0m 54ms/step - accuracy: 0.8391 - loss: 0.5634 - val_accuracy: 0.9000 - val_loss: 0.5008\n",
            "Epoch 43/100\n",
            "\u001b[1m3/3\u001b[0m \u001b[32m━━━━━━━━━━━━━━━━━━━━\u001b[0m\u001b[37m\u001b[0m \u001b[1m0s\u001b[0m 65ms/step - accuracy: 0.8453 - loss: 0.5679 - val_accuracy: 0.9000 - val_loss: 0.4909\n",
            "Epoch 44/100\n",
            "\u001b[1m3/3\u001b[0m \u001b[32m━━━━━━━━━━━━━━━━━━━━\u001b[0m\u001b[37m\u001b[0m \u001b[1m0s\u001b[0m 68ms/step - accuracy: 0.8766 - loss: 0.5517 - val_accuracy: 0.9000 - val_loss: 0.4808\n",
            "Epoch 45/100\n",
            "\u001b[1m3/3\u001b[0m \u001b[32m━━━━━━━━━━━━━━━━━━━━\u001b[0m\u001b[37m\u001b[0m \u001b[1m0s\u001b[0m 72ms/step - accuracy: 0.8570 - loss: 0.5390 - val_accuracy: 0.9000 - val_loss: 0.4707\n",
            "Epoch 46/100\n",
            "\u001b[1m3/3\u001b[0m \u001b[32m━━━━━━━━━━━━━━━━━━━━\u001b[0m\u001b[37m\u001b[0m \u001b[1m0s\u001b[0m 69ms/step - accuracy: 0.8766 - loss: 0.5330 - val_accuracy: 0.9000 - val_loss: 0.4608\n",
            "Epoch 47/100\n",
            "\u001b[1m3/3\u001b[0m \u001b[32m━━━━━━━━━━━━━━━━━━━━\u001b[0m\u001b[37m\u001b[0m \u001b[1m0s\u001b[0m 68ms/step - accuracy: 0.8609 - loss: 0.5380 - val_accuracy: 0.9000 - val_loss: 0.4513\n",
            "Epoch 48/100\n",
            "\u001b[1m3/3\u001b[0m \u001b[32m━━━━━━━━━━━━━━━━━━━━\u001b[0m\u001b[37m\u001b[0m \u001b[1m0s\u001b[0m 59ms/step - accuracy: 0.8453 - loss: 0.5244 - val_accuracy: 0.9000 - val_loss: 0.4422\n",
            "Epoch 49/100\n",
            "\u001b[1m3/3\u001b[0m \u001b[32m━━━━━━━━━━━━━━━━━━━━\u001b[0m\u001b[37m\u001b[0m \u001b[1m0s\u001b[0m 40ms/step - accuracy: 0.8727 - loss: 0.5090 - val_accuracy: 0.9000 - val_loss: 0.4330\n",
            "Epoch 50/100\n",
            "\u001b[1m3/3\u001b[0m \u001b[32m━━━━━━━━━━━━━━━━━━━━\u001b[0m\u001b[37m\u001b[0m \u001b[1m0s\u001b[0m 39ms/step - accuracy: 0.8727 - loss: 0.5110 - val_accuracy: 0.9000 - val_loss: 0.4241\n",
            "Epoch 51/100\n",
            "\u001b[1m3/3\u001b[0m \u001b[32m━━━━━━━━━━━━━━━━━━━━\u001b[0m\u001b[37m\u001b[0m \u001b[1m0s\u001b[0m 43ms/step - accuracy: 0.8297 - loss: 0.5178 - val_accuracy: 0.9000 - val_loss: 0.4156\n",
            "Epoch 52/100\n",
            "\u001b[1m3/3\u001b[0m \u001b[32m━━━━━━━━━━━━━━━━━━━━\u001b[0m\u001b[37m\u001b[0m \u001b[1m0s\u001b[0m 37ms/step - accuracy: 0.8453 - loss: 0.4949 - val_accuracy: 0.9000 - val_loss: 0.4068\n",
            "Epoch 53/100\n",
            "\u001b[1m3/3\u001b[0m \u001b[32m━━━━━━━━━━━━━━━━━━━━\u001b[0m\u001b[37m\u001b[0m \u001b[1m0s\u001b[0m 39ms/step - accuracy: 0.8531 - loss: 0.5008 - val_accuracy: 0.9000 - val_loss: 0.3987\n",
            "Epoch 54/100\n",
            "\u001b[1m3/3\u001b[0m \u001b[32m━━━━━━━━━━━━━━━━━━━━\u001b[0m\u001b[37m\u001b[0m \u001b[1m0s\u001b[0m 36ms/step - accuracy: 0.8648 - loss: 0.4816 - val_accuracy: 0.9000 - val_loss: 0.3908\n",
            "Epoch 55/100\n",
            "\u001b[1m3/3\u001b[0m \u001b[32m━━━━━━━━━━━━━━━━━━━━\u001b[0m\u001b[37m\u001b[0m \u001b[1m0s\u001b[0m 37ms/step - accuracy: 0.9000 - loss: 0.4679 - val_accuracy: 0.9000 - val_loss: 0.3829\n",
            "Epoch 56/100\n",
            "\u001b[1m3/3\u001b[0m \u001b[32m━━━━━━━━━━━━━━━━━━━━\u001b[0m\u001b[37m\u001b[0m \u001b[1m0s\u001b[0m 35ms/step - accuracy: 0.8766 - loss: 0.4670 - val_accuracy: 0.9000 - val_loss: 0.3756\n",
            "Epoch 57/100\n",
            "\u001b[1m3/3\u001b[0m \u001b[32m━━━━━━━━━━━━━━━━━━━━\u001b[0m\u001b[37m\u001b[0m \u001b[1m0s\u001b[0m 36ms/step - accuracy: 0.8492 - loss: 0.4744 - val_accuracy: 0.9000 - val_loss: 0.3688\n",
            "Epoch 58/100\n",
            "\u001b[1m3/3\u001b[0m \u001b[32m━━━━━━━━━━━━━━━━━━━━\u001b[0m\u001b[37m\u001b[0m \u001b[1m0s\u001b[0m 36ms/step - accuracy: 0.8258 - loss: 0.4896 - val_accuracy: 0.9500 - val_loss: 0.3619\n",
            "Epoch 59/100\n",
            "\u001b[1m3/3\u001b[0m \u001b[32m━━━━━━━━━━━━━━━━━━━━\u001b[0m\u001b[37m\u001b[0m \u001b[1m0s\u001b[0m 35ms/step - accuracy: 0.8430 - loss: 0.4536 - val_accuracy: 0.9500 - val_loss: 0.3546\n",
            "Epoch 60/100\n",
            "\u001b[1m3/3\u001b[0m \u001b[32m━━━━━━━━━━━━━━━━━━━━\u001b[0m\u001b[37m\u001b[0m \u001b[1m0s\u001b[0m 36ms/step - accuracy: 0.8352 - loss: 0.4580 - val_accuracy: 0.9500 - val_loss: 0.3475\n",
            "Epoch 61/100\n",
            "\u001b[1m3/3\u001b[0m \u001b[32m━━━━━━━━━━━━━━━━━━━━\u001b[0m\u001b[37m\u001b[0m \u001b[1m0s\u001b[0m 36ms/step - accuracy: 0.8547 - loss: 0.4553 - val_accuracy: 0.9500 - val_loss: 0.3405\n",
            "Epoch 62/100\n",
            "\u001b[1m3/3\u001b[0m \u001b[32m━━━━━━━━━━━━━━━━━━━━\u001b[0m\u001b[37m\u001b[0m \u001b[1m0s\u001b[0m 35ms/step - accuracy: 0.8664 - loss: 0.4190 - val_accuracy: 0.9500 - val_loss: 0.3329\n",
            "Epoch 63/100\n",
            "\u001b[1m3/3\u001b[0m \u001b[32m━━━━━━━━━━━━━━━━━━━━\u001b[0m\u001b[37m\u001b[0m \u001b[1m0s\u001b[0m 36ms/step - accuracy: 0.8430 - loss: 0.4447 - val_accuracy: 0.9500 - val_loss: 0.3264\n",
            "Epoch 64/100\n",
            "\u001b[1m3/3\u001b[0m \u001b[32m━━━━━━━━━━━━━━━━━━━━\u001b[0m\u001b[37m\u001b[0m \u001b[1m0s\u001b[0m 37ms/step - accuracy: 0.8664 - loss: 0.4108 - val_accuracy: 0.9500 - val_loss: 0.3198\n",
            "Epoch 65/100\n",
            "\u001b[1m3/3\u001b[0m \u001b[32m━━━━━━━━━━━━━━━━━━━━\u001b[0m\u001b[37m\u001b[0m \u001b[1m0s\u001b[0m 57ms/step - accuracy: 0.8508 - loss: 0.4168 - val_accuracy: 0.9500 - val_loss: 0.3135\n",
            "Epoch 66/100\n",
            "\u001b[1m3/3\u001b[0m \u001b[32m━━━━━━━━━━━━━━━━━━━━\u001b[0m\u001b[37m\u001b[0m \u001b[1m0s\u001b[0m 37ms/step - accuracy: 0.8586 - loss: 0.4133 - val_accuracy: 0.9500 - val_loss: 0.3070\n",
            "Epoch 67/100\n",
            "\u001b[1m3/3\u001b[0m \u001b[32m━━━━━━━━━━━━━━━━━━━━\u001b[0m\u001b[37m\u001b[0m \u001b[1m0s\u001b[0m 37ms/step - accuracy: 0.8195 - loss: 0.4419 - val_accuracy: 0.9500 - val_loss: 0.3011\n",
            "Epoch 68/100\n",
            "\u001b[1m3/3\u001b[0m \u001b[32m━━━━━━━━━━━━━━━━━━━━\u001b[0m\u001b[37m\u001b[0m \u001b[1m0s\u001b[0m 42ms/step - accuracy: 0.8328 - loss: 0.4225 - val_accuracy: 0.9500 - val_loss: 0.2950\n",
            "Epoch 69/100\n",
            "\u001b[1m3/3\u001b[0m \u001b[32m━━━━━━━━━━━━━━━━━━━━\u001b[0m\u001b[37m\u001b[0m \u001b[1m0s\u001b[0m 36ms/step - accuracy: 0.8367 - loss: 0.4141 - val_accuracy: 0.9500 - val_loss: 0.2892\n",
            "Epoch 70/100\n",
            "\u001b[1m3/3\u001b[0m \u001b[32m━━━━━━━━━━━━━━━━━━━━\u001b[0m\u001b[37m\u001b[0m \u001b[1m0s\u001b[0m 35ms/step - accuracy: 0.8508 - loss: 0.3875 - val_accuracy: 0.9500 - val_loss: 0.2837\n",
            "Epoch 71/100\n",
            "\u001b[1m3/3\u001b[0m \u001b[32m━━━━━━━━━━━━━━━━━━━━\u001b[0m\u001b[37m\u001b[0m \u001b[1m0s\u001b[0m 33ms/step - accuracy: 0.8328 - loss: 0.3822 - val_accuracy: 0.9500 - val_loss: 0.2783\n",
            "Epoch 72/100\n",
            "\u001b[1m3/3\u001b[0m \u001b[32m━━━━━━━━━━━━━━━━━━━━\u001b[0m\u001b[37m\u001b[0m \u001b[1m0s\u001b[0m 38ms/step - accuracy: 0.8211 - loss: 0.4051 - val_accuracy: 0.9500 - val_loss: 0.2733\n",
            "Epoch 73/100\n",
            "\u001b[1m3/3\u001b[0m \u001b[32m━━━━━━━━━━━━━━━━━━━━\u001b[0m\u001b[37m\u001b[0m \u001b[1m0s\u001b[0m 34ms/step - accuracy: 0.8406 - loss: 0.3883 - val_accuracy: 0.9500 - val_loss: 0.2682\n",
            "Epoch 74/100\n",
            "\u001b[1m3/3\u001b[0m \u001b[32m━━━━━━━━━━━━━━━━━━━━\u001b[0m\u001b[37m\u001b[0m \u001b[1m0s\u001b[0m 36ms/step - accuracy: 0.8367 - loss: 0.3817 - val_accuracy: 0.9500 - val_loss: 0.2632\n",
            "Epoch 75/100\n",
            "\u001b[1m3/3\u001b[0m \u001b[32m━━━━━━━━━━━━━━━━━━━━\u001b[0m\u001b[37m\u001b[0m \u001b[1m0s\u001b[0m 35ms/step - accuracy: 0.8719 - loss: 0.3478 - val_accuracy: 0.9500 - val_loss: 0.2583\n",
            "Epoch 76/100\n",
            "\u001b[1m3/3\u001b[0m \u001b[32m━━━━━━━━━━━━━━━━━━━━\u001b[0m\u001b[37m\u001b[0m \u001b[1m0s\u001b[0m 59ms/step - accuracy: 0.8289 - loss: 0.3899 - val_accuracy: 0.9500 - val_loss: 0.2544\n",
            "Epoch 77/100\n",
            "\u001b[1m3/3\u001b[0m \u001b[32m━━━━━━━━━━━━━━━━━━━━\u001b[0m\u001b[37m\u001b[0m \u001b[1m0s\u001b[0m 35ms/step - accuracy: 0.7953 - loss: 0.4083 - val_accuracy: 0.9500 - val_loss: 0.2505\n",
            "Epoch 78/100\n",
            "\u001b[1m3/3\u001b[0m \u001b[32m━━━━━━━━━━━━━━━━━━━━\u001b[0m\u001b[37m\u001b[0m \u001b[1m0s\u001b[0m 33ms/step - accuracy: 0.8328 - loss: 0.3967 - val_accuracy: 0.9500 - val_loss: 0.2463\n",
            "Epoch 79/100\n",
            "\u001b[1m3/3\u001b[0m \u001b[32m━━━━━━━━━━━━━━━━━━━━\u001b[0m\u001b[37m\u001b[0m \u001b[1m0s\u001b[0m 35ms/step - accuracy: 0.8367 - loss: 0.3654 - val_accuracy: 0.9500 - val_loss: 0.2418\n",
            "Epoch 80/100\n",
            "\u001b[1m3/3\u001b[0m \u001b[32m━━━━━━━━━━━━━━━━━━━━\u001b[0m\u001b[37m\u001b[0m \u001b[1m0s\u001b[0m 36ms/step - accuracy: 0.8250 - loss: 0.3846 - val_accuracy: 0.9500 - val_loss: 0.2378\n",
            "Epoch 81/100\n",
            "\u001b[1m3/3\u001b[0m \u001b[32m━━━━━━━━━━━━━━━━━━━━\u001b[0m\u001b[37m\u001b[0m \u001b[1m0s\u001b[0m 34ms/step - accuracy: 0.8273 - loss: 0.3762 - val_accuracy: 0.9500 - val_loss: 0.2341\n",
            "Epoch 82/100\n",
            "\u001b[1m3/3\u001b[0m \u001b[32m━━━━━━━━━━━━━━━━━━━━\u001b[0m\u001b[37m\u001b[0m \u001b[1m0s\u001b[0m 37ms/step - accuracy: 0.8352 - loss: 0.3951 - val_accuracy: 0.9500 - val_loss: 0.2308\n",
            "Epoch 83/100\n",
            "\u001b[1m3/3\u001b[0m \u001b[32m━━━━━━━━━━━━━━━━━━━━\u001b[0m\u001b[37m\u001b[0m \u001b[1m0s\u001b[0m 37ms/step - accuracy: 0.8469 - loss: 0.3598 - val_accuracy: 0.9500 - val_loss: 0.2274\n",
            "Epoch 84/100\n",
            "\u001b[1m3/3\u001b[0m \u001b[32m━━━━━━━━━━━━━━━━━━━━\u001b[0m\u001b[37m\u001b[0m \u001b[1m0s\u001b[0m 41ms/step - accuracy: 0.8469 - loss: 0.3711 - val_accuracy: 0.9500 - val_loss: 0.2244\n",
            "Epoch 85/100\n",
            "\u001b[1m3/3\u001b[0m \u001b[32m━━━━━━━━━━━━━━━━━━━━\u001b[0m\u001b[37m\u001b[0m \u001b[1m0s\u001b[0m 35ms/step - accuracy: 0.8664 - loss: 0.3361 - val_accuracy: 0.9500 - val_loss: 0.2213\n",
            "Epoch 86/100\n",
            "\u001b[1m3/3\u001b[0m \u001b[32m━━━━━━━━━━━━━━━━━━━━\u001b[0m\u001b[37m\u001b[0m \u001b[1m0s\u001b[0m 36ms/step - accuracy: 0.8586 - loss: 0.3276 - val_accuracy: 0.9500 - val_loss: 0.2183\n",
            "Epoch 87/100\n",
            "\u001b[1m3/3\u001b[0m \u001b[32m━━━━━━━━━━━━━━━━━━━━\u001b[0m\u001b[37m\u001b[0m \u001b[1m0s\u001b[0m 34ms/step - accuracy: 0.8352 - loss: 0.3731 - val_accuracy: 0.9500 - val_loss: 0.2160\n",
            "Epoch 88/100\n",
            "\u001b[1m3/3\u001b[0m \u001b[32m━━━━━━━━━━━━━━━━━━━━\u001b[0m\u001b[37m\u001b[0m \u001b[1m0s\u001b[0m 35ms/step - accuracy: 0.8703 - loss: 0.3328 - val_accuracy: 0.9500 - val_loss: 0.2133\n",
            "Epoch 89/100\n",
            "\u001b[1m3/3\u001b[0m \u001b[32m━━━━━━━━━━━━━━━━━━━━\u001b[0m\u001b[37m\u001b[0m \u001b[1m0s\u001b[0m 34ms/step - accuracy: 0.8664 - loss: 0.3398 - val_accuracy: 0.9500 - val_loss: 0.2109\n",
            "Epoch 90/100\n",
            "\u001b[1m3/3\u001b[0m \u001b[32m━━━━━━━━━━━━━━━━━━━━\u001b[0m\u001b[37m\u001b[0m \u001b[1m0s\u001b[0m 38ms/step - accuracy: 0.8469 - loss: 0.3455 - val_accuracy: 0.9500 - val_loss: 0.2082\n",
            "Epoch 91/100\n",
            "\u001b[1m3/3\u001b[0m \u001b[32m━━━━━━━━━━━━━━━━━━━━\u001b[0m\u001b[37m\u001b[0m \u001b[1m0s\u001b[0m 35ms/step - accuracy: 0.8664 - loss: 0.3176 - val_accuracy: 0.9500 - val_loss: 0.2056\n",
            "Epoch 92/100\n",
            "\u001b[1m3/3\u001b[0m \u001b[32m━━━━━━━━━━━━━━━━━━━━\u001b[0m\u001b[37m\u001b[0m \u001b[1m0s\u001b[0m 42ms/step - accuracy: 0.8313 - loss: 0.3600 - val_accuracy: 0.9500 - val_loss: 0.2041\n",
            "Epoch 93/100\n",
            "\u001b[1m3/3\u001b[0m \u001b[32m━━━━━━━━━━━━━━━━━━━━\u001b[0m\u001b[37m\u001b[0m \u001b[1m0s\u001b[0m 35ms/step - accuracy: 0.8508 - loss: 0.3369 - val_accuracy: 0.9500 - val_loss: 0.2024\n",
            "Epoch 94/100\n",
            "\u001b[1m3/3\u001b[0m \u001b[32m━━━━━━━━━━━━━━━━━━━━\u001b[0m\u001b[37m\u001b[0m \u001b[1m0s\u001b[0m 36ms/step - accuracy: 0.8156 - loss: 0.3876 - val_accuracy: 0.9500 - val_loss: 0.2009\n",
            "Epoch 95/100\n",
            "\u001b[1m3/3\u001b[0m \u001b[32m━━━━━━━━━━━━━━━━━━━━\u001b[0m\u001b[37m\u001b[0m \u001b[1m0s\u001b[0m 34ms/step - accuracy: 0.8313 - loss: 0.3607 - val_accuracy: 0.9500 - val_loss: 0.1988\n",
            "Epoch 96/100\n",
            "\u001b[1m3/3\u001b[0m \u001b[32m━━━━━━━━━━━━━━━━━━━━\u001b[0m\u001b[37m\u001b[0m \u001b[1m0s\u001b[0m 39ms/step - accuracy: 0.8742 - loss: 0.2970 - val_accuracy: 0.9500 - val_loss: 0.1969\n",
            "Epoch 97/100\n",
            "\u001b[1m3/3\u001b[0m \u001b[32m━━━━━━━━━━━━━━━━━━━━\u001b[0m\u001b[37m\u001b[0m \u001b[1m0s\u001b[0m 37ms/step - accuracy: 0.8234 - loss: 0.3585 - val_accuracy: 0.9500 - val_loss: 0.1954\n",
            "Epoch 98/100\n",
            "\u001b[1m3/3\u001b[0m \u001b[32m━━━━━━━━━━━━━━━━━━━━\u001b[0m\u001b[37m\u001b[0m \u001b[1m0s\u001b[0m 36ms/step - accuracy: 0.8234 - loss: 0.3614 - val_accuracy: 0.9500 - val_loss: 0.1936\n",
            "Epoch 99/100\n",
            "\u001b[1m3/3\u001b[0m \u001b[32m━━━━━━━━━━━━━━━━━━━━\u001b[0m\u001b[37m\u001b[0m \u001b[1m0s\u001b[0m 54ms/step - accuracy: 0.8453 - loss: 0.3607 - val_accuracy: 0.9500 - val_loss: 0.1915\n",
            "Epoch 100/100\n",
            "\u001b[1m3/3\u001b[0m \u001b[32m━━━━━━━━━━━━━━━━━━━━\u001b[0m\u001b[37m\u001b[0m \u001b[1m0s\u001b[0m 34ms/step - accuracy: 0.8531 - loss: 0.3317 - val_accuracy: 0.9500 - val_loss: 0.1895\n"
          ]
        }
      ]
    },
    {
      "cell_type": "code",
      "source": [
        "model1.get_weights()"
      ],
      "metadata": {
        "colab": {
          "base_uri": "https://localhost:8080/"
        },
        "id": "B0lIkUGFv6GM",
        "outputId": "b729160b-df1c-426c-928a-974159bbcdcb"
      },
      "execution_count": 25,
      "outputs": [
        {
          "output_type": "execute_result",
          "data": {
            "text/plain": [
              "[array([[-0.41420704, -1.0372585 , -0.71922183, -0.87539834, -0.66403276,\n",
              "         -0.28662646, -1.541627  ,  0.61181575, -0.2378666 , -1.5487281 ],\n",
              "        [ 0.09874555, -0.06822949, -0.24365595, -0.24585876,  0.40025845,\n",
              "          1.5520891 ,  0.41523173, -0.02332246,  1.6733589 , -0.4580535 ]],\n",
              "       dtype=float32),\n",
              " array([-0.06158147, -0.11761273, -0.05332942, -0.09606723,  0.26141417,\n",
              "         0.20036867,  0.03720662,  0.3174484 ,  0.2082475 , -0.08435307],\n",
              "       dtype=float32),\n",
              " array([[-0.15751107,  0.32573897,  0.03697744, -0.24539833,  0.50220525,\n",
              "          0.03390736,  0.37347755,  0.37687507, -0.02491933,  0.3534274 ],\n",
              "        [ 0.42544833, -0.03792917,  0.44798696,  0.03264245,  0.6684451 ,\n",
              "          0.49542144,  0.5689846 , -0.42693347,  0.14617184,  0.26593545],\n",
              "        [ 0.6009981 , -0.26418284,  0.09897249,  0.4779811 ,  0.26638776,\n",
              "          0.04323074,  0.1365556 , -0.28054526, -0.20872672,  0.06121485],\n",
              "        [ 0.11489693, -0.3741119 , -0.41265973, -0.06635438,  0.32953718,\n",
              "         -0.0145561 , -0.16864435,  0.0493201 , -0.10121255, -0.18447925],\n",
              "        [ 0.17445463, -0.29795116,  0.7345285 , -0.04499327, -0.24909946,\n",
              "         -0.6583468 ,  0.26401147,  0.24364278,  0.01131451,  0.02358259],\n",
              "        [ 0.30658713, -0.3600543 , -0.13589458,  0.07542127,  0.34315974,\n",
              "         -0.04249036,  0.27584997,  0.07010014,  0.07013022, -0.0947981 ],\n",
              "        [-0.08790945,  0.4578139 ,  0.23258102, -0.07971602,  0.45499387,\n",
              "         -0.34641248, -0.00201391,  0.328054  ,  0.07981499, -0.11241528],\n",
              "        [ 0.03987974, -0.14682889,  0.90112066,  0.09981367, -0.00675598,\n",
              "          0.27597028,  0.24690309,  0.34227094, -0.15163207, -0.16310832],\n",
              "        [ 0.42821112, -0.09229546, -0.28195462,  0.17354223,  0.635492  ,\n",
              "          0.16682939,  0.5332174 , -0.00948853, -0.5709482 , -0.35433975],\n",
              "        [ 0.6505089 , -0.15514736,  0.02223779,  0.32958794, -0.14052245,\n",
              "          0.3706662 , -0.30792427,  0.14019811, -0.01044753, -0.14950892]],\n",
              "       dtype=float32),\n",
              " array([ 0.04756964, -0.03368583,  0.29213813, -0.12573767,  0.02019743,\n",
              "         0.02124672,  0.1471555 ,  0.27755857, -0.04183037, -0.01035293],\n",
              "       dtype=float32),\n",
              " array([[ 0.0702099 ,  0.47177625, -0.05361784, -0.21049385,  0.6488176 ,\n",
              "          0.25455412, -0.33445963,  0.44536385, -0.02721369,  0.18790837],\n",
              "        [-0.5092473 ,  0.20922065, -0.08469611, -0.04527569,  0.0681753 ,\n",
              "         -0.24930173, -0.26533827, -0.24592693,  0.30669284, -0.1889639 ],\n",
              "        [ 0.43198457, -0.13781205, -0.09765813, -0.16352648, -0.02597318,\n",
              "         -0.42546976, -0.66681105,  0.01870127,  0.6694902 , -0.18038988],\n",
              "        [ 0.03854368,  0.3031416 ,  0.14460282,  0.16661267,  0.15869102,\n",
              "         -0.09775139, -0.2189473 , -0.06118994, -0.5552836 , -0.14060912],\n",
              "        [-0.47625938,  0.37264138,  0.00916843,  0.36919248,  0.7985543 ,\n",
              "         -0.09387634, -0.15144634,  0.6789334 , -0.14066175, -0.2547057 ],\n",
              "        [ 0.45212477, -0.15945297, -0.60473704, -0.14369555,  0.13892323,\n",
              "         -0.2514202 , -0.37638   , -0.1756213 , -0.39818484,  0.15896662],\n",
              "        [ 0.17833173,  0.41474456,  0.02039019, -0.38337106,  0.15117052,\n",
              "         -0.2051398 , -0.1382478 ,  0.527526  ,  0.11742961,  0.12267173],\n",
              "        [ 0.4646007 ,  0.13375346, -0.03596871, -0.19243984, -0.10553906,\n",
              "          0.16263472,  0.6294332 ,  0.3899608 ,  0.5982374 , -0.3013795 ],\n",
              "        [ 0.13597193, -0.12573877,  0.02035513, -0.16362424, -0.316663  ,\n",
              "          0.12347248,  0.5458197 ,  0.6174772 ,  0.38302752,  0.3520067 ],\n",
              "        [-0.5709887 ,  0.37707394,  0.5328411 ,  0.18978235, -0.42487153,\n",
              "         -0.22368267,  0.04059998, -0.02253213, -0.12083634, -0.368916  ]],\n",
              "       dtype=float32),\n",
              " array([ 0.21306969, -0.0734612 ,  0.26912975, -0.07228272, -0.04944772,\n",
              "         0.        ,  0.        ,  0.09958361,  0.2745581 , -0.00321418],\n",
              "       dtype=float32),\n",
              " array([[ 0.05301159, -0.30028456, -0.5160308 ,  0.87879926,  0.6612395 ,\n",
              "         -0.15080383, -0.03713825, -0.23219724,  0.02162367, -0.13380647],\n",
              "        [-0.5329942 , -0.3854128 , -0.0533932 , -0.1029051 , -0.06449418,\n",
              "          0.16660973,  0.01023119,  0.8123119 ,  0.25344402, -0.01400857],\n",
              "        [-0.3941961 , -0.0149405 , -0.06050096,  0.02664943,  0.68382615,\n",
              "          0.03698323, -0.4059652 , -0.44240612, -0.72984755, -0.25298414],\n",
              "        [ 0.18829294,  0.53803647, -0.33745688,  0.14820166, -0.1356566 ,\n",
              "         -0.19967714,  0.00604616, -0.00507259, -0.12264901, -0.50357443],\n",
              "        [ 0.08707993,  0.43198943,  0.01816556, -0.0539446 , -0.5012245 ,\n",
              "          0.5016505 , -0.5278864 ,  1.025357  ,  0.37438902, -0.2453903 ],\n",
              "        [ 0.23277369,  0.06791657, -0.13025826, -0.7664412 ,  0.18697104,\n",
              "         -0.0536376 , -0.02511437, -0.06718358,  0.09061056, -0.24549401],\n",
              "        [ 0.14250742, -0.30527556, -0.55141765, -0.0737109 ,  0.52949196,\n",
              "         -0.16438174,  0.08585611, -0.18970565, -0.11252237,  0.33081323],\n",
              "        [-0.18058498, -0.12567192,  0.0366079 ,  0.01374383,  0.06066962,\n",
              "         -0.39899758, -0.40258443,  0.37062296,  0.4785596 , -0.6455959 ],\n",
              "        [ 0.48415333, -0.07669017, -0.39552975,  0.21056662,  1.0749698 ,\n",
              "         -0.35908914,  0.04851171,  0.0555678 , -0.2657536 ,  0.4001484 ],\n",
              "        [ 0.18301225, -0.22035263,  0.34216815,  0.15882951, -0.09236593,\n",
              "          0.33707935,  0.20737723,  0.28896984, -0.15043944,  0.4411178 ]],\n",
              "       dtype=float32),\n",
              " array([ 0.16155235, -0.08747616,  0.        ,  0.11503609,  0.23841596,\n",
              "        -0.11177603,  0.        , -0.02028017,  0.06965802, -0.05809299],\n",
              "       dtype=float32),\n",
              " array([[ 0.44008276],\n",
              "        [ 0.10091956],\n",
              "        [ 0.27153397],\n",
              "        [ 0.24104021],\n",
              "        [ 0.50736105],\n",
              "        [ 0.04137266],\n",
              "        [ 0.4813221 ],\n",
              "        [-0.41970444],\n",
              "        [-0.27290428],\n",
              "        [-0.16027713]], dtype=float32),\n",
              " array([0.10875018], dtype=float32)]"
            ]
          },
          "metadata": {},
          "execution_count": 25
        }
      ]
    },
    {
      "cell_type": "code",
      "source": [
        "from mlxtend.plotting import plot_decision_regions\n",
        "plot_decision_regions(X,y.astype('int'), clf=model1, legend=2)"
      ],
      "metadata": {
        "colab": {
          "base_uri": "https://localhost:8080/",
          "height": 465
        },
        "id": "PS3kuMQQwDhZ",
        "outputId": "ff07c54a-fb50-4d25-ab14-441daf5bd6ef"
      },
      "execution_count": 26,
      "outputs": [
        {
          "output_type": "stream",
          "name": "stdout",
          "text": [
            "\u001b[1m9600/9600\u001b[0m \u001b[32m━━━━━━━━━━━━━━━━━━━━\u001b[0m\u001b[37m\u001b[0m \u001b[1m11s\u001b[0m 1ms/step\n"
          ]
        },
        {
          "output_type": "execute_result",
          "data": {
            "text/plain": [
              "<Axes: >"
            ]
          },
          "metadata": {},
          "execution_count": 26
        },
        {
          "output_type": "display_data",
          "data": {
            "text/plain": [
              "<Figure size 640x480 with 1 Axes>"
            ],
            "image/png": "[encoded data removed]"
          },
          "metadata": {}
        }
      ]
    },
    {
      "cell_type": "code",
      "source": [],
      "metadata": {
        "id": "8Ty98g0bwZyz"
      },
      "execution_count": 26,
      "outputs": []
    }
  ]
}